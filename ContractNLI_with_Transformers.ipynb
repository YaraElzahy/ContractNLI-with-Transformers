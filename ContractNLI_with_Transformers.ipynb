{
  "cells": [
    {
      "cell_type": "markdown",
      "id": "oQ4S3l78TlYO",
      "metadata": {
        "id": "oQ4S3l78TlYO"
      },
      "source": [
        "**Name:** Yara Elzahy\n",
        "\n",
        "**ID:** 20398570\n"
      ]
    },
    {
      "cell_type": "markdown",
      "id": "5fW8Tor1USgX",
      "metadata": {
        "id": "5fW8Tor1USgX"
      },
      "source": [
        "# Data Analytics: Assignment 3"
      ]
    },
    {
      "cell_type": "markdown",
      "id": "5f8W7LXATrpe",
      "metadata": {
        "id": "5f8W7LXATrpe"
      },
      "source": [
        "## Import Libraries"
      ]
    },
    {
      "cell_type": "code",
      "execution_count": null,
      "id": "ErQsetddTnof",
      "metadata": {
        "id": "ErQsetddTnof"
      },
      "outputs": [],
      "source": [
        "import csv\n",
        "import json\n",
        "import pandas as pd\n",
        "import matplotlib.pyplot as plt\n",
        "# train_df = convert_json_to_csv('train.json')\n",
        "# validation_df = convert_json_to_csv('dev.json')\n",
        "# testing_df = convert_json_to_csv('test.json')\n",
        "\n",
        "# the following code ensures that you can see your (print) results for multiple tasks within a coding block\n",
        "from IPython.core.interactiveshell import InteractiveShell\n",
        "InteractiveShell.ast_node_interactivity = \"all\""
      ]
    },
    {
      "cell_type": "markdown",
      "id": "5d648fd1",
      "metadata": {
        "id": "5d648fd1"
      },
      "source": [
        "##### Our goal is to perform natural language inference on the given task. The first task is to check the statistics of the dataset and design how to generate new files from the raw dataset to support your NLI task training, validation and testing.\n"
      ]
    },
    {
      "cell_type": "code",
      "execution_count": null,
      "id": "6c977fdc",
      "metadata": {
        "id": "6c977fdc"
      },
      "outputs": [],
      "source": [
        "def json_to_csv(json_file, csv_file):\n",
        "    # Read the JSON file\n",
        "    with open(json_file, 'r') as f:\n",
        "        data = json.load(f)\n",
        "\n",
        "    documents = data['documents']  # Get the 'documents' array\n",
        "    labels = data['labels']        # Get the 'labels' object\n",
        "\n",
        "    with open(csv_file, 'w', newline='') as f:\n",
        "        writer = csv.writer(f)\n",
        "        writer.writerow(['text', 'hypothesis', 'label', 'spans'])   # Write the header row\n",
        "\n",
        "        # Iterate over each document\n",
        "        for document in documents:\n",
        "            doc_id = document['id']                                         # Get the document ID\n",
        "            spans = document['spans']                                       # Get the 'spans' array\n",
        "            annotation_set = document['annotation_sets'][0]['annotations']  # Get the 'annotations' object\n",
        "\n",
        "            # Iterate over each annotation in the annotation set\n",
        "            for annotation_id, annotation in annotation_set.items():\n",
        "                label = annotation['choice']                                # Get the 'choice' label\n",
        "                hypothesis = labels[annotation_id]['hypothesis']            # Get the hypothesis from 'labels' using the annotation ID\n",
        "                span_indices = annotation['spans']                          # Get the span indices\n",
        "\n",
        "                span_text = []\n",
        "                for index in span_indices:\n",
        "                    if isinstance(index, int):\n",
        "                        span_text.append(spans[index])\n",
        "                    else:\n",
        "                        span_text.append(document['text'][index[0]:index[1]])\n",
        "\n",
        "                writer.writerow([document['text'], hypothesis, label, span_text])  # Write the row to the CSV file\n",
        "\n",
        "    print(f\"Conversion complete. CSV file '{csv_file}' created.\")"
      ]
    },
    {
      "cell_type": "markdown",
      "id": "47c8f283",
      "metadata": {
        "id": "47c8f283"
      },
      "source": [
        "Summarized version of the steps involved in generating the new CSV data:\n",
        "\n",
        "1. Read the JSON file and store the data.\n",
        "2. Extract the documents and labels from the JSON data.\n",
        "3. Open the CSV file for writing and write the header row.\n",
        "4. Iterate over each document.\n",
        "5. For each document, extract the ID, spans, and annotations.\n",
        "6. Iterate over each annotation.\n",
        "7. Retrieve the label and hypothesis.\n",
        "8. Extract the span text using either index-based or character-based approach.\n",
        "9. Write a row to the CSV file with the extracted data.\n",
        "10. Repeat for all documents and annotations.\n",
        "11. Print a completion message and close the CSV file."
      ]
    },
    {
      "cell_type": "code",
      "execution_count": null,
      "id": "942e9e4b",
      "metadata": {
        "colab": {
          "base_uri": "https://localhost:8080/"
        },
        "id": "942e9e4b",
        "outputId": "68c38384-e813-4156-9f1b-82b97cb9eca1"
      },
      "outputs": [
        {
          "name": "stdout",
          "output_type": "stream",
          "text": [
            "Conversion complete. CSV file 'train.csv' created.\n",
            "Conversion complete. CSV file 'test.csv' created.\n",
            "Conversion complete. CSV file 'validation.csv' created.\n"
          ]
        }
      ],
      "source": [
        "# convert train, test and validation json into csv files\n",
        "json_to_csv('train.json', 'train.csv')\n",
        "json_to_csv('test.json', 'test.csv')\n",
        "json_to_csv('dev.json', 'validation.csv')"
      ]
    },
    {
      "cell_type": "code",
      "execution_count": null,
      "id": "3e63a9bf",
      "metadata": {
        "colab": {
          "base_uri": "https://localhost:8080/",
          "height": 250
        },
        "id": "3e63a9bf",
        "outputId": "6ad11c84-4b69-4de0-8090-5cadd7241d72"
      },
      "outputs": [
        {
          "data": {
            "text/html": [
              "\n",
              "\n",
              "  <div id=\"df-3e6e441c-2328-4c47-a446-c6f14374b4e4\">\n",
              "    <div class=\"colab-df-container\">\n",
              "      <div>\n",
              "<style scoped>\n",
              "    .dataframe tbody tr th:only-of-type {\n",
              "        vertical-align: middle;\n",
              "    }\n",
              "\n",
              "    .dataframe tbody tr th {\n",
              "        vertical-align: top;\n",
              "    }\n",
              "\n",
              "    .dataframe thead th {\n",
              "        text-align: right;\n",
              "    }\n",
              "</style>\n",
              "<table border=\"1\" class=\"dataframe\">\n",
              "  <thead>\n",
              "    <tr style=\"text-align: right;\">\n",
              "      <th></th>\n",
              "      <th>text</th>\n",
              "      <th>hypothesis</th>\n",
              "      <th>label</th>\n",
              "      <th>spans</th>\n",
              "    </tr>\n",
              "  </thead>\n",
              "  <tbody>\n",
              "    <tr>\n",
              "      <th>0</th>\n",
              "      <td>NON-DISCLOSURE AND CONFIDENTIALITY AGREEMENT\\n...</td>\n",
              "      <td>Receiving Party shall not reverse engineer any...</td>\n",
              "      <td>NotMentioned</td>\n",
              "      <td>[]</td>\n",
              "    </tr>\n",
              "    <tr>\n",
              "      <th>1</th>\n",
              "      <td>NON-DISCLOSURE AND CONFIDENTIALITY AGREEMENT\\n...</td>\n",
              "      <td>Receiving Party shall destroy or return some C...</td>\n",
              "      <td>Entailment</td>\n",
              "      <td>[[5021, 5179], [5179, 5347]]</td>\n",
              "    </tr>\n",
              "    <tr>\n",
              "      <th>2</th>\n",
              "      <td>NON-DISCLOSURE AND CONFIDENTIALITY AGREEMENT\\n...</td>\n",
              "      <td>Agreement shall not grant Receiving Party any ...</td>\n",
              "      <td>Entailment</td>\n",
              "      <td>[[4834, 5020]]</td>\n",
              "    </tr>\n",
              "    <tr>\n",
              "      <th>3</th>\n",
              "      <td>NON-DISCLOSURE AND CONFIDENTIALITY AGREEMENT\\n...</td>\n",
              "      <td>Receiving Party shall not disclose the fact th...</td>\n",
              "      <td>Entailment</td>\n",
              "      <td>[[7292, 7645]]</td>\n",
              "    </tr>\n",
              "    <tr>\n",
              "      <th>4</th>\n",
              "      <td>NON-DISCLOSURE AND CONFIDENTIALITY AGREEMENT\\n...</td>\n",
              "      <td>Confidential Information shall only include te...</td>\n",
              "      <td>NotMentioned</td>\n",
              "      <td>[]</td>\n",
              "    </tr>\n",
              "  </tbody>\n",
              "</table>\n",
              "</div>\n",
              "      <button class=\"colab-df-convert\" onclick=\"convertToInteractive('df-3e6e441c-2328-4c47-a446-c6f14374b4e4')\"\n",
              "              title=\"Convert this dataframe to an interactive table.\"\n",
              "              style=\"display:none;\">\n",
              "\n",
              "  <svg xmlns=\"http://www.w3.org/2000/svg\" height=\"24px\"viewBox=\"0 0 24 24\"\n",
              "       width=\"24px\">\n",
              "    <path d=\"M0 0h24v24H0V0z\" fill=\"none\"/>\n",
              "    <path d=\"M18.56 5.44l.94 2.06.94-2.06 2.06-.94-2.06-.94-.94-2.06-.94 2.06-2.06.94zm-11 1L8.5 8.5l.94-2.06 2.06-.94-2.06-.94L8.5 2.5l-.94 2.06-2.06.94zm10 10l.94 2.06.94-2.06 2.06-.94-2.06-.94-.94-2.06-.94 2.06-2.06.94z\"/><path d=\"M17.41 7.96l-1.37-1.37c-.4-.4-.92-.59-1.43-.59-.52 0-1.04.2-1.43.59L10.3 9.45l-7.72 7.72c-.78.78-.78 2.05 0 2.83L4 21.41c.39.39.9.59 1.41.59.51 0 1.02-.2 1.41-.59l7.78-7.78 2.81-2.81c.8-.78.8-2.07 0-2.86zM5.41 20L4 18.59l7.72-7.72 1.47 1.35L5.41 20z\"/>\n",
              "  </svg>\n",
              "      </button>\n",
              "\n",
              "\n",
              "\n",
              "    <div id=\"df-09337154-ca97-4e0f-9968-7f1af8b6d6d2\">\n",
              "      <button class=\"colab-df-quickchart\" onclick=\"quickchart('df-09337154-ca97-4e0f-9968-7f1af8b6d6d2')\"\n",
              "              title=\"Suggest charts.\"\n",
              "              style=\"display:none;\">\n",
              "\n",
              "<svg xmlns=\"http://www.w3.org/2000/svg\" height=\"24px\"viewBox=\"0 0 24 24\"\n",
              "     width=\"24px\">\n",
              "    <g>\n",
              "        <path d=\"M19 3H5c-1.1 0-2 .9-2 2v14c0 1.1.9 2 2 2h14c1.1 0 2-.9 2-2V5c0-1.1-.9-2-2-2zM9 17H7v-7h2v7zm4 0h-2V7h2v10zm4 0h-2v-4h2v4z\"/>\n",
              "    </g>\n",
              "</svg>\n",
              "      </button>\n",
              "    </div>\n",
              "\n",
              "<style>\n",
              "  .colab-df-quickchart {\n",
              "    background-color: #E8F0FE;\n",
              "    border: none;\n",
              "    border-radius: 50%;\n",
              "    cursor: pointer;\n",
              "    display: none;\n",
              "    fill: #1967D2;\n",
              "    height: 32px;\n",
              "    padding: 0 0 0 0;\n",
              "    width: 32px;\n",
              "  }\n",
              "\n",
              "  .colab-df-quickchart:hover {\n",
              "    background-color: #E2EBFA;\n",
              "    box-shadow: 0px 1px 2px rgba(60, 64, 67, 0.3), 0px 1px 3px 1px rgba(60, 64, 67, 0.15);\n",
              "    fill: #174EA6;\n",
              "  }\n",
              "\n",
              "  [theme=dark] .colab-df-quickchart {\n",
              "    background-color: #3B4455;\n",
              "    fill: #D2E3FC;\n",
              "  }\n",
              "\n",
              "  [theme=dark] .colab-df-quickchart:hover {\n",
              "    background-color: #434B5C;\n",
              "    box-shadow: 0px 1px 3px 1px rgba(0, 0, 0, 0.15);\n",
              "    filter: drop-shadow(0px 1px 2px rgba(0, 0, 0, 0.3));\n",
              "    fill: #FFFFFF;\n",
              "  }\n",
              "</style>\n",
              "\n",
              "    <script>\n",
              "      async function quickchart(key) {\n",
              "        const containerElement = document.querySelector('#' + key);\n",
              "        const charts = await google.colab.kernel.invokeFunction(\n",
              "            'suggestCharts', [key], {});\n",
              "      }\n",
              "    </script>\n",
              "\n",
              "      <script>\n",
              "\n",
              "function displayQuickchartButton(domScope) {\n",
              "  let quickchartButtonEl =\n",
              "    domScope.querySelector('#df-09337154-ca97-4e0f-9968-7f1af8b6d6d2 button.colab-df-quickchart');\n",
              "  quickchartButtonEl.style.display =\n",
              "    google.colab.kernel.accessAllowed ? 'block' : 'none';\n",
              "}\n",
              "\n",
              "        displayQuickchartButton(document);\n",
              "      </script>\n",
              "      <style>\n",
              "    .colab-df-container {\n",
              "      display:flex;\n",
              "      flex-wrap:wrap;\n",
              "      gap: 12px;\n",
              "    }\n",
              "\n",
              "    .colab-df-convert {\n",
              "      background-color: #E8F0FE;\n",
              "      border: none;\n",
              "      border-radius: 50%;\n",
              "      cursor: pointer;\n",
              "      display: none;\n",
              "      fill: #1967D2;\n",
              "      height: 32px;\n",
              "      padding: 0 0 0 0;\n",
              "      width: 32px;\n",
              "    }\n",
              "\n",
              "    .colab-df-convert:hover {\n",
              "      background-color: #E2EBFA;\n",
              "      box-shadow: 0px 1px 2px rgba(60, 64, 67, 0.3), 0px 1px 3px 1px rgba(60, 64, 67, 0.15);\n",
              "      fill: #174EA6;\n",
              "    }\n",
              "\n",
              "    [theme=dark] .colab-df-convert {\n",
              "      background-color: #3B4455;\n",
              "      fill: #D2E3FC;\n",
              "    }\n",
              "\n",
              "    [theme=dark] .colab-df-convert:hover {\n",
              "      background-color: #434B5C;\n",
              "      box-shadow: 0px 1px 3px 1px rgba(0, 0, 0, 0.15);\n",
              "      filter: drop-shadow(0px 1px 2px rgba(0, 0, 0, 0.3));\n",
              "      fill: #FFFFFF;\n",
              "    }\n",
              "  </style>\n",
              "\n",
              "      <script>\n",
              "        const buttonEl =\n",
              "          document.querySelector('#df-3e6e441c-2328-4c47-a446-c6f14374b4e4 button.colab-df-convert');\n",
              "        buttonEl.style.display =\n",
              "          google.colab.kernel.accessAllowed ? 'block' : 'none';\n",
              "\n",
              "        async function convertToInteractive(key) {\n",
              "          const element = document.querySelector('#df-3e6e441c-2328-4c47-a446-c6f14374b4e4');\n",
              "          const dataTable =\n",
              "            await google.colab.kernel.invokeFunction('convertToInteractive',\n",
              "                                                     [key], {});\n",
              "          if (!dataTable) return;\n",
              "\n",
              "          const docLinkHtml = 'Like what you see? Visit the ' +\n",
              "            '<a target=\"_blank\" href=https://colab.research.google.com/notebooks/data_table.ipynb>data table notebook</a>'\n",
              "            + ' to learn more about interactive tables.';\n",
              "          element.innerHTML = '';\n",
              "          dataTable['output_type'] = 'display_data';\n",
              "          await google.colab.output.renderOutput(dataTable, element);\n",
              "          const docLink = document.createElement('div');\n",
              "          docLink.innerHTML = docLinkHtml;\n",
              "          element.appendChild(docLink);\n",
              "        }\n",
              "      </script>\n",
              "    </div>\n",
              "  </div>\n"
            ],
            "text/plain": [
              "                                                text  \\\n",
              "0  NON-DISCLOSURE AND CONFIDENTIALITY AGREEMENT\\n...   \n",
              "1  NON-DISCLOSURE AND CONFIDENTIALITY AGREEMENT\\n...   \n",
              "2  NON-DISCLOSURE AND CONFIDENTIALITY AGREEMENT\\n...   \n",
              "3  NON-DISCLOSURE AND CONFIDENTIALITY AGREEMENT\\n...   \n",
              "4  NON-DISCLOSURE AND CONFIDENTIALITY AGREEMENT\\n...   \n",
              "\n",
              "                                          hypothesis         label  \\\n",
              "0  Receiving Party shall not reverse engineer any...  NotMentioned   \n",
              "1  Receiving Party shall destroy or return some C...    Entailment   \n",
              "2  Agreement shall not grant Receiving Party any ...    Entailment   \n",
              "3  Receiving Party shall not disclose the fact th...    Entailment   \n",
              "4  Confidential Information shall only include te...  NotMentioned   \n",
              "\n",
              "                          spans  \n",
              "0                            []  \n",
              "1  [[5021, 5179], [5179, 5347]]  \n",
              "2                [[4834, 5020]]  \n",
              "3                [[7292, 7645]]  \n",
              "4                            []  "
            ]
          },
          "execution_count": 4,
          "metadata": {},
          "output_type": "execute_result"
        }
      ],
      "source": [
        "train_df = pd.read_csv('train.csv')\n",
        "train_df.head()"
      ]
    },
    {
      "cell_type": "code",
      "execution_count": null,
      "id": "d4134a0c",
      "metadata": {
        "id": "d4134a0c"
      },
      "outputs": [],
      "source": [
        "test_df = pd.read_csv('test.csv')\n",
        "val_df = pd.read_csv('validation.csv')"
      ]
    },
    {
      "cell_type": "code",
      "execution_count": null,
      "id": "8ce945d6",
      "metadata": {
        "id": "8ce945d6"
      },
      "outputs": [],
      "source": [
        "def get_dataset_statistics(df, csv_file):\n",
        "\n",
        "    num_examples = len(df)\n",
        "    unique_labels = df['label'].nunique()\n",
        "    label_counts = df['label'].value_counts()\n",
        "\n",
        "    print(f\"Dataset: {csv_file}\")\n",
        "    print(f\"Number of examples: {num_examples}\")\n",
        "    print(f\"Number of unique labels: {unique_labels}\")\n",
        "    print(\"Label Counts:\")\n",
        "    print(label_counts)"
      ]
    },
    {
      "cell_type": "code",
      "execution_count": null,
      "id": "955fb9e2",
      "metadata": {
        "colab": {
          "base_uri": "https://localhost:8080/"
        },
        "id": "955fb9e2",
        "outputId": "51204eec-413f-486b-e31d-f718a1e9a2e4"
      },
      "outputs": [
        {
          "name": "stdout",
          "output_type": "stream",
          "text": [
            "Dataset: train.csv\n",
            "Number of examples: 7191\n",
            "Number of unique labels: 3\n",
            "Label Counts:\n",
            "Entailment       3530\n",
            "NotMentioned     2820\n",
            "Contradiction     841\n",
            "Name: label, dtype: int64\n",
            "Dataset: test.csv\n",
            "Number of examples: 2091\n",
            "Number of unique labels: 3\n",
            "Label Counts:\n",
            "Entailment       968\n",
            "NotMentioned     903\n",
            "Contradiction    220\n",
            "Name: label, dtype: int64\n",
            "Dataset: validation.csv\n",
            "Number of examples: 1037\n",
            "Number of unique labels: 3\n",
            "Label Counts:\n",
            "Entailment       519\n",
            "NotMentioned     423\n",
            "Contradiction     95\n",
            "Name: label, dtype: int64\n"
          ]
        }
      ],
      "source": [
        "# Get statistics for each dataset\n",
        "get_dataset_statistics(train_df, 'train.csv')\n",
        "get_dataset_statistics(test_df, 'test.csv')\n",
        "get_dataset_statistics(val_df, 'validation.csv')"
      ]
    },
    {
      "cell_type": "code",
      "execution_count": null,
      "id": "6790fba6",
      "metadata": {
        "id": "6790fba6"
      },
      "outputs": [],
      "source": [
        "def analyze_dataset(df, csv_file):\n",
        "\n",
        "    # Number of documents in the dataset\n",
        "    num_documents = len(df)\n",
        "\n",
        "    # Length of each document\n",
        "    df['document_length'] = df['text'].apply(len)\n",
        "\n",
        "    # Length statistics of the documents\n",
        "    document_length_stats = df['document_length'].describe()\n",
        "\n",
        "    # Length of each hypothesis\n",
        "    df['hypothesis_length'] = df['hypothesis'].apply(len)\n",
        "\n",
        "    # Length statistics of the hypotheses\n",
        "    hypothesis_length_stats = df['hypothesis_length'].describe()\n",
        "\n",
        "    # Distribution of document lengths\n",
        "    plt.figure(figsize=(10, 5))\n",
        "    plt.hist(df['document_length'], bins=30, edgecolor='black')\n",
        "    plt.xlabel('Document Length')\n",
        "    plt.ylabel('Frequency')\n",
        "    plt.title('Distribution of Document Lengths')\n",
        "    plt.show()\n",
        "\n",
        "    # Distribution of hypothesis lengths\n",
        "    plt.figure(figsize=(10, 5))\n",
        "    plt.hist(df['hypothesis_length'], bins=30, edgecolor='black')\n",
        "    plt.xlabel('Hypothesis Length')\n",
        "    plt.ylabel('Frequency')\n",
        "    plt.title('Distribution of Hypothesis Lengths')\n",
        "    plt.show()\n",
        "\n",
        "    # Distribution of labels\n",
        "    label_counts = df['label'].value_counts()\n",
        "\n",
        "    # Plotting label distribution\n",
        "    plt.figure(figsize=(10, 5))\n",
        "    plt.bar(label_counts.index, label_counts.values)\n",
        "    plt.xlabel('Label')\n",
        "    plt.ylabel('Frequency')\n",
        "    plt.title('Label Distribution')\n",
        "    plt.show()\n",
        "\n",
        "    # Print the statistics\n",
        "    print(f\"Dataset: {csv_file}\")\n",
        "    print(f\"Number of documents: {num_documents}\")\n",
        "    print(\"\\nDocument Length Statistics:\")\n",
        "    print(document_length_stats)\n",
        "    print(\"\\nHypothesis Length Statistics:\")\n",
        "    print(hypothesis_length_stats)\n",
        "    print(\"\\nLabel Distribution:\")\n",
        "    print(label_counts)"
      ]
    },
    {
      "cell_type": "code",
      "execution_count": null,
      "id": "75c674b2",
      "metadata": {
        "id": "75c674b2",
        "outputId": "3d9ab574-1554-4b4e-f944-186e607ef1c1"
      },
      "outputs": [
        {
          "data": {
            "image/png": "[encoded data removed]",
            "text/plain": [
              "<Figure size 1000x500 with 1 Axes>"
            ]
          },
          "metadata": {},
          "output_type": "display_data"
        },
        {
          "data": {
            "image/png": "[encoded data removed]",
            "text/plain": [
              "<Figure size 1000x500 with 1 Axes>"
            ]
          },
          "metadata": {},
          "output_type": "display_data"
        },
        {
          "data": {
            "image/png": "[encoded data removed]",
            "text/plain": [
              "<Figure size 1000x500 with 1 Axes>"
            ]
          },
          "metadata": {},
          "output_type": "display_data"
        },
        {
          "name": "stdout",
          "output_type": "stream",
          "text": [
            "Dataset: train.csv\n",
            "Number of documents: 7191\n",
            "\n",
            "Document Length Statistics:\n",
            "count     7191.000000\n",
            "mean     11049.286052\n",
            "std       6643.810692\n",
            "min       1481.000000\n",
            "25%       6366.000000\n",
            "50%       9936.000000\n",
            "75%      13724.000000\n",
            "max      54571.000000\n",
            "Name: document_length, dtype: float64\n",
            "\n",
            "Hypothesis Length Statistics:\n",
            "count    7191.000000\n",
            "mean       97.176471\n",
            "std        25.692790\n",
            "min        66.000000\n",
            "25%        80.000000\n",
            "50%        90.000000\n",
            "75%       112.000000\n",
            "max       162.000000\n",
            "Name: hypothesis_length, dtype: float64\n",
            "\n",
            "Label Distribution:\n",
            "Entailment       3530\n",
            "NotMentioned     2820\n",
            "Contradiction     841\n",
            "Name: label, dtype: int64\n"
          ]
        },
        {
          "data": {
            "image/png": "[encoded data removed]",
            "text/plain": [
              "<Figure size 1000x500 with 1 Axes>"
            ]
          },
          "metadata": {},
          "output_type": "display_data"
        },
        {
          "data": {
            "image/png": "[encoded data removed]",
            "text/plain": [
              "<Figure size 1000x500 with 1 Axes>"
            ]
          },
          "metadata": {},
          "output_type": "display_data"
        },
        {
          "data": {
            "image/png": "[encoded data removed]",
            "text/plain": [
              "<Figure size 1000x500 with 1 Axes>"
            ]
          },
          "metadata": {},
          "output_type": "display_data"
        },
        {
          "name": "stdout",
          "output_type": "stream",
          "text": [
            "Dataset: test.csv\n",
            "Number of documents: 2091\n",
            "\n",
            "Document Length Statistics:\n",
            "count     2091.000000\n",
            "mean     11218.211382\n",
            "std       7245.148704\n",
            "min       1231.000000\n",
            "25%       6087.000000\n",
            "50%       9614.000000\n",
            "75%      13912.000000\n",
            "max      41779.000000\n",
            "Name: document_length, dtype: float64\n",
            "\n",
            "Hypothesis Length Statistics:\n",
            "count    2091.000000\n",
            "mean       97.176471\n",
            "std        25.697149\n",
            "min        66.000000\n",
            "25%        80.000000\n",
            "50%        90.000000\n",
            "75%       112.000000\n",
            "max       162.000000\n",
            "Name: hypothesis_length, dtype: float64\n",
            "\n",
            "Label Distribution:\n",
            "Entailment       968\n",
            "NotMentioned     903\n",
            "Contradiction    220\n",
            "Name: label, dtype: int64\n"
          ]
        },
        {
          "data": {
            "image/png": "[encoded data removed]",
            "text/plain": [
              "<Figure size 1000x500 with 1 Axes>"
            ]
          },
          "metadata": {},
          "output_type": "display_data"
        },
        {
          "data": {
            "image/png": "[encoded data removed]",
            "text/plain": [
              "<Figure size 1000x500 with 1 Axes>"
            ]
          },
          "metadata": {},
          "output_type": "display_data"
        },
        {
          "data": {
            "image/png": "[encoded data removed]",
            "text/plain": [
              "<Figure size 1000x500 with 1 Axes>"
            ]
          },
          "metadata": {},
          "output_type": "display_data"
        },
        {
          "name": "stdout",
          "output_type": "stream",
          "text": [
            "Dataset: validation.csv\n",
            "Number of documents: 1037\n",
            "\n",
            "Document Length Statistics:\n",
            "count     1037.000000\n",
            "mean     12094.967213\n",
            "std       6746.161796\n",
            "min       2270.000000\n",
            "25%       6982.000000\n",
            "50%      11299.000000\n",
            "75%      14464.000000\n",
            "max      32359.000000\n",
            "Name: document_length, dtype: float64\n",
            "\n",
            "Hypothesis Length Statistics:\n",
            "count    1037.000000\n",
            "mean       97.176471\n",
            "std        25.703400\n",
            "min        66.000000\n",
            "25%        80.000000\n",
            "50%        90.000000\n",
            "75%       112.000000\n",
            "max       162.000000\n",
            "Name: hypothesis_length, dtype: float64\n",
            "\n",
            "Label Distribution:\n",
            "Entailment       519\n",
            "NotMentioned     423\n",
            "Contradiction     95\n",
            "Name: label, dtype: int64\n"
          ]
        }
      ],
      "source": [
        "# Analyze the train dataset\n",
        "analyze_dataset(train_df, 'train.csv')\n",
        "\n",
        "# Analyze the test dataset\n",
        "analyze_dataset(test_df, 'test.csv')\n",
        "\n",
        "# Analyze the validation dataset\n",
        "analyze_dataset(val_df, 'validation.csv')"
      ]
    },
    {
      "cell_type": "markdown",
      "id": "e53743cd",
      "metadata": {
        "id": "e53743cd"
      },
      "source": [
        "A summary of the statistics and visualizations:\n",
        "\n",
        "1. Number of Documents: The code calculates the total number of documents in each dataset (train, test, validation).\n",
        "\n",
        "2. Document Length Statistics: The code computes statistics such as minimum, maximum, median, mean, and quartiles for the lengths of the documents in each dataset. This provides an understanding of the range and distribution of document lengths.\n",
        "\n",
        "3. Hypothesis Length Statistics: Similarly, the code calculates statistics for the lengths of the hypotheses in each dataset, including minimum, maximum, median, mean, and quartiles.\n",
        "\n",
        "4. Distribution of Document Lengths: The code generates a histogram visualization showing the distribution of document lengths. This helps visualize the frequency of different document length ranges and provides insights into the document length distribution.\n",
        "\n",
        "5. Distribution of Hypothesis Lengths: The code also creates a histogram visualization illustrating the distribution of hypothesis lengths. This helps visualize the frequency of different hypothesis length ranges and provides insights into the hypothesis length distribution.\n",
        "\n",
        "6. Distribution of Labels: The code calculates the frequency of each label (Entailment, Contradiction, NotMentioned) in each dataset. It then generates a bar plot to visualize the label distribution, indicating the relative occurrence of each label.\n",
        "\n",
        "Based on the results, let's summarize and compare the statistics of the train, test, and validation datasets:\n",
        "\n",
        "Train Dataset:\n",
        "- Number of Documents: 7,191\n",
        "- Mean Document Length: 11,049 characters\n",
        "- Mean Hypothesis Length: 97 characters\n",
        "- Label Distribution: Entailment (3,530), NotMentioned (2,820), Contradiction (841)\n",
        "\n",
        "Test Dataset:\n",
        "- Number of Documents: 2,091\n",
        "- Mean Document Length: 11,218 characters\n",
        "- Mean Hypothesis Length: 97 characters\n",
        "- Label Distribution: Entailment (968), NotMentioned (903), Contradiction (220)\n",
        "\n",
        "Validation Dataset:\n",
        "- Number of Documents: 1,037\n",
        "- Mean Document Length: 12,095 characters\n",
        "- Mean Hypothesis Length: 97 characters\n",
        "- Label Distribution: Entailment (519), NotMentioned (423), Contradiction (95)\n",
        "\n",
        "Comparing the datasets:\n",
        "\n",
        "1. Number of Documents: The train dataset has the highest number of documents (7,191), followed by the test dataset (2,091) and the validation dataset (1,037).\n",
        "\n",
        "2. Document Length: The train dataset has the widest range of document lengths, with the highest maximum document length (54,571 characters), while the test and validation datasets have lower maximum document lengths. The mean document lengths are similar across all datasets, ranging from approximately 11,049 to 12,095 characters.\n",
        "\n",
        "3. Hypothesis Length: The mean hypothesis length is the same across all datasets (approximately 97 characters). The maximum and minimum hypothesis lengths are consistent across the datasets.\n",
        "\n",
        "4. Label Distribution: The train dataset has the highest number of examples for all labels, with the most frequent label being Entailment (3,530 examples). The test and validation datasets show similar label distributions, although with fewer examples overall.\n",
        "\n",
        "These statistics and comparisons give insights into the structure and complexity of the datasets.\n"
      ]
    },
    {
      "cell_type": "markdown",
      "id": "fff39db1",
      "metadata": {
        "id": "fff39db1"
      },
      "source": [
        "## Step 2\n",
        "#####  Perform NLI using two transformer based approaches. You can check the SOTA approaches from paperwithcode and then see if hugging face has implemented the pre-trained model. If you pick a pre-trained model such as DeBerta (https://huggingface.co/docs/transformers/model doc/deberta), make sure you fine-tuned the model on the training dataset. You are free to use public available model/code to implement your solution. Report the performance of two models on the dataset."
      ]
    },
    {
      "cell_type": "code",
      "execution_count": null,
      "id": "cc6d5809",
      "metadata": {
        "id": "cc6d5809"
      },
      "outputs": [],
      "source": [
        "!pip install transformers"
      ]
    },
    {
      "cell_type": "code",
      "execution_count": null,
      "id": "41eabd24",
      "metadata": {
        "id": "41eabd24"
      },
      "outputs": [],
      "source": [
        "!pip install torch"
      ]
    },
    {
      "cell_type": "code",
      "execution_count": null,
      "id": "f687d07a",
      "metadata": {
        "id": "f687d07a"
      },
      "outputs": [],
      "source": [
        "!pip install transformers[torch] accelerate"
      ]
    },
    {
      "cell_type": "code",
      "execution_count": null,
      "id": "566d7ce2",
      "metadata": {
        "id": "566d7ce2"
      },
      "outputs": [],
      "source": [
        "!pip install accelerate -U"
      ]
    },
    {
      "cell_type": "code",
      "execution_count": null,
      "id": "a9719d11",
      "metadata": {
        "id": "a9719d11"
      },
      "outputs": [],
      "source": [
        "!pip install transformers --upgrade"
      ]
    },
    {
      "cell_type": "code",
      "execution_count": null,
      "id": "0d87d825",
      "metadata": {
        "id": "0d87d825"
      },
      "outputs": [],
      "source": [
        "import torch\n",
        "import numpy as np\n",
        "import torch.nn as nn\n",
        "import torch.optim as optim\n",
        "from tabulate import tabulate\n",
        "from torch.utils.data import DataLoader\n",
        "from transformers import AutoTokenizer, AutoModelForSequenceClassification, Trainer, TrainingArguments\n",
        "from sklearn.metrics import accuracy_score, precision_recall_fscore_support"
      ]
    },
    {
      "cell_type": "markdown",
      "id": "8b8c812b",
      "metadata": {
        "id": "8b8c812b"
      },
      "source": [
        "### 1st Model DistilBERT Model"
      ]
    },
    {
      "cell_type": "code",
      "execution_count": null,
      "id": "9e987a38",
      "metadata": {
        "id": "9e987a38"
      },
      "outputs": [],
      "source": [
        "model_name1 = \"distilbert-base-uncased\"\n",
        "tokenizer = AutoTokenizer.from_pretrained(model_name1)"
      ]
    },
    {
      "cell_type": "code",
      "execution_count": null,
      "id": "775fd9c8",
      "metadata": {
        "id": "775fd9c8"
      },
      "outputs": [],
      "source": [
        "def tokenize_data(data):\n",
        "    #the text and hypothesis will speperated by [sep] token to differentiate them.\n",
        "    return tokenizer(text=data['text'].tolist(), text_pair=data['hypothesis'].tolist(), truncation=True, padding=\"max_length\", max_length=512)"
      ]
    },
    {
      "cell_type": "code",
      "execution_count": null,
      "id": "08b0feeb",
      "metadata": {
        "id": "08b0feeb"
      },
      "outputs": [],
      "source": [
        "class ContractNLIDataset(torch.utils.data.Dataset):\n",
        "    def __init__(self, encodings, labels):\n",
        "        self.encodings = encodings\n",
        "        self.labels = labels\n",
        "\n",
        "    def __getitem__(self, idx):\n",
        "        item = {key: torch.tensor(value[idx]) for key, value in self.encodings.items()}\n",
        "        # Here we ensure the label is an integer tensor\n",
        "        item['labels'] = torch.tensor(int(self.labels[idx]))\n",
        "        return item\n",
        "\n",
        "    def __len__(self):\n",
        "        return len(self.labels)"
      ]
    },
    {
      "cell_type": "code",
      "execution_count": null,
      "id": "dffb8abe",
      "metadata": {
        "id": "dffb8abe"
      },
      "outputs": [],
      "source": [
        "class ContractNLIDatasetTest(torch.utils.data.Dataset):\n",
        "    def __init__(self, encodings):\n",
        "        self.encodings = encodings\n",
        "\n",
        "    def __getitem__(self, idx):\n",
        "        item = {key: torch.tensor(value[idx]) for key, value in self.encodings.items()}\n",
        "        return item\n",
        "\n",
        "    def __len__(self):\n",
        "        return len(self.encodings['input_ids'])"
      ]
    },
    {
      "cell_type": "code",
      "execution_count": null,
      "id": "a1396378",
      "metadata": {
        "id": "a1396378"
      },
      "outputs": [],
      "source": [
        "label_mapping = {\"NotMentioned\": 0, \"Entailment\": 1, \"Contradiction\": 2}"
      ]
    },
    {
      "cell_type": "code",
      "execution_count": null,
      "id": "225a4c78",
      "metadata": {
        "id": "225a4c78"
      },
      "outputs": [],
      "source": [
        "train_labels = [label_mapping[label] for label in train_df['label'].tolist()]\n",
        "valid_labels = [label_mapping[label] for label in val_df['label'].tolist()]\n",
        "test_labels = [label_mapping[label] for label in val_df['label'].tolist()]\n",
        "train_encodings = tokenize_data(train_df)\n",
        "valid_encodings = tokenize_data(val_df)\n",
        "test_encodings = tokenize_data(test_df)"
      ]
    },
    {
      "cell_type": "code",
      "execution_count": null,
      "id": "72c08446",
      "metadata": {
        "id": "72c08446"
      },
      "outputs": [],
      "source": [
        "train_dataset = ContractNLIDataset(train_encodings, train_labels)\n",
        "valid_dataset = ContractNLIDataset(valid_encodings, valid_labels)\n",
        "test_dataset = ContractNLIDatasetTest(test_encodings)"
      ]
    },
    {
      "cell_type": "code",
      "execution_count": null,
      "id": "83f070ac",
      "metadata": {
        "id": "83f070ac"
      },
      "outputs": [],
      "source": [
        "def compute_metrics(p):\n",
        "    preds = np.argmax(p.predictions, axis=1)\n",
        "    accuracy = accuracy_score(p.label_ids, preds)\n",
        "    precision, recall, f1, _ = precision_recall_fscore_support(p.label_ids, preds, average='weighted')\n",
        "    return {\"accuracy\": accuracy, \"precision\": precision, \"recall\": recall, \"f1\": f1}"
      ]
    },
    {
      "cell_type": "code",
      "execution_count": null,
      "id": "7a4c977c",
      "metadata": {
        "colab": {
          "base_uri": "https://localhost:8080/",
          "height": 107,
          "referenced_widgets": [
            "f6f857f4f8d7471f8745ff0d45e5d43d",
            "d312ad7cea5f4a2ab978857f46374aae",
            "996f3fe5fb5c4ece9734ac713e4ab097",
            "c7d6f07216df424e93f18ff3dc441e04",
            "e456a9de2a6c4a4290be9eae34cc2997",
            "80cf4e42a9c44ce7b8a012c83230ca27",
            "ec88bd82ea9043a58b3bed0b5e6c436e",
            "730db6797ea24f03beef2dc833667c18",
            "8bc96ec09a4f4512865887c479a33a42",
            "465f2e6b0a3a4bb39773a35e9fd8540f",
            "b3e18b69cfc34ee8b028b0fd78e43f54"
          ]
        },
        "id": "7a4c977c",
        "outputId": "67b91ece-ec23-4cf6-fc54-5f6acf0f0ec3"
      },
      "outputs": [
        {
          "name": "stderr",
          "output_type": "stream",
          "text": [
            "Some weights of DistilBertForSequenceClassification were not initialized from the model checkpoint at distilbert-base-uncased and are newly initialized: ['pre_classifier.weight', 'classifier.weight', 'pre_classifier.bias', 'classifier.bias']\n",
            "You should probably TRAIN this model on a down-stream task to be able to use it for predictions and inference.\n"
          ]
        }
      ],
      "source": [
        "model1 = AutoModelForSequenceClassification.from_pretrained(model_name1, num_labels=3)\n",
        "\n",
        "training_args = TrainingArguments(\n",
        "    output_dir='./distilbert_model',\n",
        "    num_train_epochs=10,\n",
        "    per_device_train_batch_size=8,\n",
        "    per_device_eval_batch_size=8,\n",
        "    warmup_steps=500,\n",
        "    weight_decay=0.01,\n",
        "    logging_dir='./logs',\n",
        "    logging_steps=10,\n",
        "    evaluation_strategy=\"epoch\",\n",
        ")\n",
        "\n",
        "\n",
        "trainer_distilbert = Trainer(\n",
        "    model=model1,\n",
        "    args=training_args,\n",
        "    train_dataset=train_dataset,\n",
        "    eval_dataset=valid_dataset,\n",
        "    tokenizer=tokenizer,\n",
        "    compute_metrics=compute_metrics,\n",
        ")"
      ]
    },
    {
      "cell_type": "code",
      "execution_count": null,
      "id": "621d3da5",
      "metadata": {
        "colab": {
          "base_uri": "https://localhost:8080/",
          "height": 656
        },
        "id": "621d3da5",
        "outputId": "d859b935-666b-4bce-fa4f-81306bff1a2f"
      },
      "outputs": [
        {
          "name": "stderr",
          "output_type": "stream",
          "text": [
            "/opt/conda/lib/python3.9/site-packages/transformers/optimization.py:411: FutureWarning: This implementation of AdamW is deprecated and will be removed in a future version. Use the PyTorch implementation torch.optim.AdamW instead, or set `no_deprecation_warning=True` to disable this warning\n",
            "  warnings.warn(\n",
            "You're using a DistilBertTokenizerFast tokenizer. Please note that with a fast tokenizer, using the `__call__` method is faster than using a method to encode the text followed by a call to the `pad` method to get a padded encoding.\n"
          ]
        },
        {
          "data": {
            "text/html": [
              "\n",
              "    <div>\n",
              "      \n",
              "      <progress value='8990' max='8990' style='width:300px; height:20px; vertical-align: middle;'></progress>\n",
              "      [8990/8990 23:05, Epoch 10/10]\n",
              "    </div>\n",
              "    <table border=\"1\" class=\"dataframe\">\n",
              "  <thead>\n",
              " <tr style=\"text-align: left;\">\n",
              "      <th>Epoch</th>\n",
              "      <th>Training Loss</th>\n",
              "      <th>Validation Loss</th>\n",
              "      <th>Accuracy</th>\n",
              "      <th>Precision</th>\n",
              "      <th>Recall</th>\n",
              "      <th>F1</th>\n",
              "    </tr>\n",
              "  </thead>\n",
              "  <tbody>\n",
              "    <tr>\n",
              "      <td>1</td>\n",
              "      <td>0.686000</td>\n",
              "      <td>0.690571</td>\n",
              "      <td>0.680810</td>\n",
              "      <td>0.693684</td>\n",
              "      <td>0.680810</td>\n",
              "      <td>0.683962</td>\n",
              "    </tr>\n",
              "    <tr>\n",
              "      <td>2</td>\n",
              "      <td>0.678100</td>\n",
              "      <td>0.720703</td>\n",
              "      <td>0.706847</td>\n",
              "      <td>0.705886</td>\n",
              "      <td>0.706847</td>\n",
              "      <td>0.703489</td>\n",
              "    </tr>\n",
              "    <tr>\n",
              "      <td>3</td>\n",
              "      <td>0.622600</td>\n",
              "      <td>0.706224</td>\n",
              "      <td>0.698168</td>\n",
              "      <td>0.711299</td>\n",
              "      <td>0.698168</td>\n",
              "      <td>0.702216</td>\n",
              "    </tr>\n",
              "    <tr>\n",
              "      <td>4</td>\n",
              "      <td>0.631900</td>\n",
              "      <td>0.685907</td>\n",
              "      <td>0.701061</td>\n",
              "      <td>0.711254</td>\n",
              "      <td>0.701061</td>\n",
              "      <td>0.703586</td>\n",
              "    </tr>\n",
              "    <tr>\n",
              "      <td>5</td>\n",
              "      <td>0.846500</td>\n",
              "      <td>0.709567</td>\n",
              "      <td>0.682739</td>\n",
              "      <td>0.707921</td>\n",
              "      <td>0.682739</td>\n",
              "      <td>0.687477</td>\n",
              "    </tr>\n",
              "    <tr>\n",
              "      <td>6</td>\n",
              "      <td>0.516600</td>\n",
              "      <td>0.692569</td>\n",
              "      <td>0.702025</td>\n",
              "      <td>0.715474</td>\n",
              "      <td>0.702025</td>\n",
              "      <td>0.706292</td>\n",
              "    </tr>\n",
              "    <tr>\n",
              "      <td>7</td>\n",
              "      <td>0.453300</td>\n",
              "      <td>0.730423</td>\n",
              "      <td>0.698168</td>\n",
              "      <td>0.704051</td>\n",
              "      <td>0.698168</td>\n",
              "      <td>0.698745</td>\n",
              "    </tr>\n",
              "    <tr>\n",
              "      <td>8</td>\n",
              "      <td>0.406000</td>\n",
              "      <td>0.795220</td>\n",
              "      <td>0.702025</td>\n",
              "      <td>0.705538</td>\n",
              "      <td>0.702025</td>\n",
              "      <td>0.702846</td>\n",
              "    </tr>\n",
              "    <tr>\n",
              "      <td>9</td>\n",
              "      <td>0.332600</td>\n",
              "      <td>0.930232</td>\n",
              "      <td>0.696239</td>\n",
              "      <td>0.703935</td>\n",
              "      <td>0.696239</td>\n",
              "      <td>0.698269</td>\n",
              "    </tr>\n",
              "    <tr>\n",
              "      <td>10</td>\n",
              "      <td>0.206000</td>\n",
              "      <td>0.978518</td>\n",
              "      <td>0.700096</td>\n",
              "      <td>0.706251</td>\n",
              "      <td>0.700096</td>\n",
              "      <td>0.702325</td>\n",
              "    </tr>\n",
              "  </tbody>\n",
              "</table><p>"
            ],
            "text/plain": [
              "<IPython.core.display.HTML object>"
            ]
          },
          "metadata": {},
          "output_type": "display_data"
        },
        {
          "data": {
            "text/plain": [
              "TrainOutput(global_step=8990, training_loss=0.5494893411375391, metrics={'train_runtime': 1386.7154, 'train_samples_per_second': 51.856, 'train_steps_per_second': 6.483, 'total_flos': 9525900515235840.0, 'train_loss': 0.5494893411375391, 'epoch': 10.0})"
            ]
          },
          "execution_count": 12,
          "metadata": {},
          "output_type": "execute_result"
        }
      ],
      "source": [
        "trainer_distilbert.train()"
      ]
    },
    {
      "cell_type": "markdown",
      "id": "10c392da",
      "metadata": {
        "id": "10c392da"
      },
      "source": []
    },
    {
      "cell_type": "code",
      "execution_count": null,
      "id": "a406e408",
      "metadata": {
        "id": "a406e408"
      },
      "outputs": [],
      "source": []
    },
    {
      "cell_type": "markdown",
      "id": "a05a178a",
      "metadata": {
        "id": "a05a178a"
      },
      "source": [
        "#### 2nd Model: MobileBERT model"
      ]
    },
    {
      "cell_type": "code",
      "execution_count": null,
      "id": "768d67f3",
      "metadata": {
        "colab": {
          "base_uri": "https://localhost:8080/",
          "height": 113,
          "referenced_widgets": [
            "09d9f02220764330b496795e1e3bad78",
            "b0d5788db41c4cb99cd34786730abaac",
            "ec2c8643e8ff4b54bbcc4a524525a0d0",
            "c07871c9b5084d8bbe0d3fa924463616",
            "772f402ef9404eb4a0ca0699e62aebe0",
            "dd318ddd539340c1a9db635a58cdc23a",
            "5b57fcc0350d420d875ae7654be5e138",
            "12d9744571aa439abc5f7d9f2fee8162",
            "1a1e2a342236460eb993937ffbb96ad9",
            "bb14005af26e4117952354406cf7e412",
            "6d1342cdbc824dea9a6dd78f54cac4cc",
            "816809ce9ac2420cb5138b799e39ab06",
            "cab1b5529837498d8270d0056a42ccfc",
            "82eb3b3232c342c8a1fe21e2ab0e7766",
            "5677f703ee034c34b337bdbd2a6d91b1",
            "fc7a9a85d2b14c8a8c9124703c3f4ea6",
            "9a3a26194c4a42219f382c0aa2a558c3",
            "d337d59b50c740b092cfac255b31a403",
            "6b716ffb0bf546c092908f53e7a5fd4a",
            "9f18279e76624fb4b88773143ae37cb9",
            "b0522dcc5f004418bf8c6c58923bf85a",
            "ffbf83ebde1b43e99045ae8b778fb9f1",
            "e4e98e95dd3547e2b44dfd74beb77307",
            "f4a5cd4206fa436f86485ae1d8d4dfbd",
            "d0677001b220490d894ffa23fb52f8be",
            "91d1241a0db24c96aaa88899778fbf28",
            "848536e019a945468a76d067ab8a878a",
            "577ca42d0a1349f98bd7d27278307483",
            "be626ed60dbf4d3a8b5ce522b2724591",
            "1edf01968dd94b1093bdd3c4e2754f09",
            "1becba766f5d41a2a754b184d204d52f",
            "3653e819259944cd8add43d46c1a2b24",
            "dc38e76082d24b328403177bb6dff510"
          ]
        },
        "id": "768d67f3",
        "outputId": "fa4ed4c3-5595-4dc8-d1aa-0e3b6ae6c935"
      },
      "outputs": [
        {
          "data": {
            "application/vnd.jupyter.widget-view+json": {
              "model_id": "09d9f02220764330b496795e1e3bad78",
              "version_major": 2,
              "version_minor": 0
            },
            "text/plain": [
              "Downloading (…)lve/main/config.json:   0%|          | 0.00/847 [00:00<?, ?B/s]"
            ]
          },
          "metadata": {},
          "output_type": "display_data"
        },
        {
          "data": {
            "application/vnd.jupyter.widget-view+json": {
              "model_id": "816809ce9ac2420cb5138b799e39ab06",
              "version_major": 2,
              "version_minor": 0
            },
            "text/plain": [
              "Downloading (…)solve/main/vocab.txt:   0%|          | 0.00/232k [00:00<?, ?B/s]"
            ]
          },
          "metadata": {},
          "output_type": "display_data"
        },
        {
          "data": {
            "application/vnd.jupyter.widget-view+json": {
              "model_id": "e4e98e95dd3547e2b44dfd74beb77307",
              "version_major": 2,
              "version_minor": 0
            },
            "text/plain": [
              "Downloading (…)/main/tokenizer.json:   0%|          | 0.00/466k [00:00<?, ?B/s]"
            ]
          },
          "metadata": {},
          "output_type": "display_data"
        }
      ],
      "source": [
        "model_name2 = \"google/mobilebert-uncased\"\n",
        "tokenizer = AutoTokenizer.from_pretrained(model_name2)"
      ]
    },
    {
      "cell_type": "code",
      "execution_count": null,
      "id": "2d229529",
      "metadata": {
        "id": "2d229529"
      },
      "outputs": [],
      "source": [
        "train_labels = [label_mapping[label] for label in train_df['label'].tolist()]\n",
        "valid_labels = [label_mapping[label] for label in val_df['label'].tolist()]\n",
        "test_labels = [label_mapping[label] for label in val_df['label'].tolist()]\n",
        "train_encodings = tokenize_data(train_df)\n",
        "valid_encodings = tokenize_data(val_df)\n",
        "test_encodings = tokenize_data(test_df)"
      ]
    },
    {
      "cell_type": "code",
      "execution_count": null,
      "id": "800c718d",
      "metadata": {
        "id": "800c718d"
      },
      "outputs": [],
      "source": [
        "train_dataset = ContractNLIDataset(train_encodings, train_labels)\n",
        "valid_dataset = ContractNLIDataset(valid_encodings, valid_labels)\n",
        "test_dataset = ContractNLIDatasetTest(test_encodings)"
      ]
    },
    {
      "cell_type": "code",
      "execution_count": null,
      "id": "443529e9",
      "metadata": {
        "colab": {
          "base_uri": "https://localhost:8080/",
          "height": 104,
          "referenced_widgets": [
            "434e45c13495497c807fe4958de02099",
            "7fe3af882cce4ca08bb5a8dd5d1a663e",
            "b53cca3fa9f7443faa1e397020679756",
            "0530b7ddccc0495f89029387b2e4c8be",
            "bec414ac3d3d41d6b3c2270ff1f2e5c0",
            "2bd0d55b14c64f51b4288e9d9ad9a51b",
            "f0a282183fb74f89b99d9a4278f238be",
            "a6fec6e30e03483e8a63c6bc3dc44ea4",
            "c33a48b38e934ced94567cc5c1a31837",
            "a6d097f8a15c46e0ae587bbeb5ce2ede",
            "a3d0c61d89614c4e902079fb72f78e42"
          ]
        },
        "id": "443529e9",
        "outputId": "d328e813-9de2-4fb2-d4d6-d8c65921a601"
      },
      "outputs": [
        {
          "data": {
            "application/vnd.jupyter.widget-view+json": {
              "model_id": "434e45c13495497c807fe4958de02099",
              "version_major": 2,
              "version_minor": 0
            },
            "text/plain": [
              "Downloading pytorch_model.bin:   0%|          | 0.00/147M [00:00<?, ?B/s]"
            ]
          },
          "metadata": {},
          "output_type": "display_data"
        },
        {
          "name": "stderr",
          "output_type": "stream",
          "text": [
            "Some weights of MobileBertForSequenceClassification were not initialized from the model checkpoint at google/mobilebert-uncased and are newly initialized: ['classifier.bias', 'classifier.weight']\n",
            "You should probably TRAIN this model on a down-stream task to be able to use it for predictions and inference.\n"
          ]
        }
      ],
      "source": [
        "model2 = AutoModelForSequenceClassification.from_pretrained(model_name2, num_labels=3)"
      ]
    },
    {
      "cell_type": "code",
      "execution_count": null,
      "id": "6265fc8a",
      "metadata": {
        "id": "6265fc8a"
      },
      "outputs": [],
      "source": [
        "training_args = TrainingArguments(\n",
        "    output_dir='./mobilebert_model',\n",
        "    num_train_epochs=10,\n",
        "    per_device_train_batch_size=8,\n",
        "    per_device_eval_batch_size=8,\n",
        "    warmup_steps=500,\n",
        "    weight_decay=0.01,\n",
        "    logging_dir='./logs',\n",
        "    logging_steps=10,\n",
        "    evaluation_strategy=\"epoch\",\n",
        ")\n",
        "\n",
        "trainer_mobilebert = Trainer(\n",
        "    model=model2,\n",
        "    args=training_args,\n",
        "    train_dataset=train_dataset,\n",
        "    eval_dataset=valid_dataset,\n",
        "    tokenizer=tokenizer,\n",
        "    compute_metrics=compute_metrics,\n",
        ")"
      ]
    },
    {
      "cell_type": "code",
      "execution_count": null,
      "id": "ff49671f",
      "metadata": {
        "colab": {
          "base_uri": "https://localhost:8080/",
          "height": 495
        },
        "id": "ff49671f",
        "outputId": "208ac3b4-fd11-495d-9bb5-6333ce9e776e"
      },
      "outputs": [
        {
          "name": "stderr",
          "output_type": "stream",
          "text": [
            "/usr/local/lib/python3.10/dist-packages/transformers/optimization.py:411: FutureWarning: This implementation of AdamW is deprecated and will be removed in a future version. Use the PyTorch implementation torch.optim.AdamW instead, or set `no_deprecation_warning=True` to disable this warning\n",
            "  warnings.warn(\n",
            "You're using a MobileBertTokenizerFast tokenizer. Please note that with a fast tokenizer, using the `__call__` method is faster than using a method to encode the text followed by a call to the `pad` method to get a padded encoding.\n"
          ]
        },
        {
          "data": {
            "text/html": [
              "\n",
              "    <div>\n",
              "      \n",
              "      <progress value='8990' max='8990' style='width:300px; height:20px; vertical-align: middle;'></progress>\n",
              "      [8990/8990 1:07:00, Epoch 10/10]\n",
              "    </div>\n",
              "    <table border=\"1\" class=\"dataframe\">\n",
              "  <thead>\n",
              " <tr style=\"text-align: left;\">\n",
              "      <th>Epoch</th>\n",
              "      <th>Training Loss</th>\n",
              "      <th>Validation Loss</th>\n",
              "      <th>Accuracy</th>\n",
              "      <th>Precision</th>\n",
              "      <th>Recall</th>\n",
              "      <th>F1</th>\n",
              "    </tr>\n",
              "  </thead>\n",
              "  <tbody>\n",
              "    <tr>\n",
              "      <td>1</td>\n",
              "      <td>0.732300</td>\n",
              "      <td>1.099800</td>\n",
              "      <td>0.674060</td>\n",
              "      <td>0.681720</td>\n",
              "      <td>0.674060</td>\n",
              "      <td>0.676498</td>\n",
              "    </tr>\n",
              "    <tr>\n",
              "      <td>2</td>\n",
              "      <td>0.651000</td>\n",
              "      <td>0.731048</td>\n",
              "      <td>0.684667</td>\n",
              "      <td>0.706133</td>\n",
              "      <td>0.684667</td>\n",
              "      <td>0.682740</td>\n",
              "    </tr>\n",
              "    <tr>\n",
              "      <td>3</td>\n",
              "      <td>0.531000</td>\n",
              "      <td>0.735179</td>\n",
              "      <td>0.688525</td>\n",
              "      <td>0.715892</td>\n",
              "      <td>0.688525</td>\n",
              "      <td>0.692774</td>\n",
              "    </tr>\n",
              "    <tr>\n",
              "      <td>4</td>\n",
              "      <td>0.652300</td>\n",
              "      <td>0.644978</td>\n",
              "      <td>0.714561</td>\n",
              "      <td>0.728817</td>\n",
              "      <td>0.714561</td>\n",
              "      <td>0.719000</td>\n",
              "    </tr>\n",
              "    <tr>\n",
              "      <td>5</td>\n",
              "      <td>0.742800</td>\n",
              "      <td>0.636515</td>\n",
              "      <td>0.728062</td>\n",
              "      <td>0.738014</td>\n",
              "      <td>0.728062</td>\n",
              "      <td>0.730920</td>\n",
              "    </tr>\n",
              "    <tr>\n",
              "      <td>6</td>\n",
              "      <td>0.448300</td>\n",
              "      <td>1.165906</td>\n",
              "      <td>0.713597</td>\n",
              "      <td>0.720203</td>\n",
              "      <td>0.713597</td>\n",
              "      <td>0.713229</td>\n",
              "    </tr>\n",
              "    <tr>\n",
              "      <td>7</td>\n",
              "      <td>0.601900</td>\n",
              "      <td>0.774085</td>\n",
              "      <td>0.720347</td>\n",
              "      <td>0.724399</td>\n",
              "      <td>0.720347</td>\n",
              "      <td>0.721215</td>\n",
              "    </tr>\n",
              "    <tr>\n",
              "      <td>8</td>\n",
              "      <td>0.392400</td>\n",
              "      <td>0.918574</td>\n",
              "      <td>0.734812</td>\n",
              "      <td>0.733521</td>\n",
              "      <td>0.734812</td>\n",
              "      <td>0.730859</td>\n",
              "    </tr>\n",
              "    <tr>\n",
              "      <td>9</td>\n",
              "      <td>0.206300</td>\n",
              "      <td>1.137334</td>\n",
              "      <td>0.711668</td>\n",
              "      <td>0.713926</td>\n",
              "      <td>0.711668</td>\n",
              "      <td>0.712536</td>\n",
              "    </tr>\n",
              "    <tr>\n",
              "      <td>10</td>\n",
              "      <td>0.206500</td>\n",
              "      <td>1.201238</td>\n",
              "      <td>0.728062</td>\n",
              "      <td>0.732070</td>\n",
              "      <td>0.728062</td>\n",
              "      <td>0.728977</td>\n",
              "    </tr>\n",
              "  </tbody>\n",
              "</table><p>"
            ],
            "text/plain": [
              "<IPython.core.display.HTML object>"
            ]
          },
          "metadata": {},
          "output_type": "display_data"
        },
        {
          "data": {
            "text/plain": [
              "TrainOutput(global_step=8990, training_loss=74809.61837922808, metrics={'train_runtime': 4024.3756, 'train_samples_per_second': 17.869, 'train_steps_per_second': 2.234, 'total_flos': 4509483067791360.0, 'train_loss': 74809.61837922808, 'epoch': 10.0})"
            ]
          },
          "execution_count": 21,
          "metadata": {},
          "output_type": "execute_result"
        }
      ],
      "source": [
        "trainer_mobilebert.train()"
      ]
    },
    {
      "cell_type": "markdown",
      "id": "5813fab8",
      "metadata": {
        "id": "5813fab8"
      },
      "source": [
        "A summary of the reasons behind choosing the 2 models above:\n",
        "\n",
        "The two models used for the data analysis are \"distilbert-base-uncased\" and \"google/mobilebert-uncased.\" The selection of these models was based on the idea of comparing two different transformer-based architectures and here's why:\n",
        "\n",
        "1. **distilbert-base-uncased**:\n",
        "   - DistilBERT is a lighter and faster version of BERT (Bidirectional Encoder Representations from Transformers) that retains most of BERT's performance while using fewer parameters.\n",
        "   - This model is beneficial when computational resources are limited (just like in our case), as it allows for faster training and inference compared to the original BERT model.\n",
        "   - Despite its reduced size, DistilBERT can still capture important patterns in the data and provide meaningful embeddings.\n",
        "\n",
        "2. **google/mobilebert-uncased**:\n",
        "   - MobileBERT is another compact version of BERT, designed specifically for mobile and resource-constrained environments.\n",
        "   - It is optimized to run efficiently on devices with lower memory and processing power, making it suitable for applications on mobile devices.\n",
        "   - By using MobileBERT, we can examine how well a more lightweight model performs compared to distilbert-base-uncased.\n",
        "\n",
        "**Comparison and Conclusion:**\n",
        "- Both models show reasonably good performance on the dataset, with MobileBERT slightly outperforming DistilBERT in terms of accuracy, precision, recall, and F1 score.\n",
        "- The choice between these two models would ultimately depend on the specific use case and the available computational resources which are limited in our case.\n",
        "- If there are strict constraints on model size and speed, MobileBERT might be a better choice due to its optimized architecture.\n",
        "- On the other hand, if resources are not a significant concern and the dataset is large enough to warrant it, using DistilBERT might be a good trade-off between performance and resource utilization."
      ]
    },
    {
      "cell_type": "markdown",
      "id": "dc4a52fb",
      "metadata": {
        "id": "dc4a52fb"
      },
      "source": [
        "## Step 3\n",
        "##### Analyze the performance of your two models and perform error analysis. You should have a textual cell explaining how you design the methodology to perform error analysis with a goal of understanding what are the potential reasons behind the errors.\n"
      ]
    },
    {
      "cell_type": "markdown",
      "id": "f6dfbf10",
      "metadata": {
        "id": "f6dfbf10"
      },
      "source": [
        "#### Evaluate distilbert model on test dataset"
      ]
    },
    {
      "cell_type": "code",
      "execution_count": null,
      "id": "63351c82",
      "metadata": {
        "id": "63351c82"
      },
      "outputs": [],
      "source": [
        "test_encodings = tokenize_data(test_df)\n",
        "test_dataset = ContractNLIDatasetTest(test_encodings)\n",
        "test_labels = [label_mapping[label] for label in test_df['label'].tolist()]"
      ]
    },
    {
      "cell_type": "code",
      "execution_count": null,
      "id": "jbHA1MTlp4Xu",
      "metadata": {
        "id": "jbHA1MTlp4Xu"
      },
      "outputs": [],
      "source": [
        "from sklearn.metrics import confusion_matrix, classification_report"
      ]
    },
    {
      "cell_type": "code",
      "execution_count": null,
      "id": "d25545bd",
      "metadata": {
        "id": "d25545bd",
        "outputId": "2b26fa40-9004-4c5d-d095-43105d372298"
      },
      "outputs": [
        {
          "data": {
            "text/html": [],
            "text/plain": [
              "<IPython.core.display.HTML object>"
            ]
          },
          "metadata": {},
          "output_type": "display_data"
        }
      ],
      "source": [
        "# Use the Trainer.predict() method to get predictions\n",
        "predictions = trainer_distilbert.predict(test_dataset)\n",
        "pred_labels = predictions.predictions.argmax(axis=1)"
      ]
    },
    {
      "cell_type": "code",
      "execution_count": null,
      "id": "025e1de9",
      "metadata": {
        "id": "025e1de9",
        "outputId": "c3b8fede-7f5d-4ce3-d5c0-9a27aab7f43a"
      },
      "outputs": [
        {
          "name": "stdout",
          "output_type": "stream",
          "text": [
            "Confusion Matrix:\n",
            "[[583 238  82]\n",
            " [166 754  48]\n",
            " [ 61  41 118]]\n"
          ]
        }
      ],
      "source": [
        "confusion_mat = confusion_matrix(test_labels, pred_labels)\n",
        "print(\"Confusion Matrix:\")\n",
        "print(confusion_mat)"
      ]
    },
    {
      "cell_type": "code",
      "execution_count": null,
      "id": "NW8BqiHWp8Jl",
      "metadata": {
        "id": "NW8BqiHWp8Jl"
      },
      "outputs": [],
      "source": [
        "from sklearn.metrics import accuracy_score, precision_recall_fscore_support"
      ]
    },
    {
      "cell_type": "code",
      "execution_count": null,
      "id": "05ca1f9a",
      "metadata": {
        "id": "05ca1f9a",
        "outputId": "9dd31052-b64b-4e10-9ec7-204823b3ecaa"
      },
      "outputs": [
        {
          "name": "stdout",
          "output_type": "stream",
          "text": [
            "Test Accuracy: 0.6958393113342898\n",
            "Precision: 0.6987901097604067\n",
            "Recall: 0.6958393113342898\n",
            "F1-score: 0.6958866121154685\n"
          ]
        }
      ],
      "source": [
        "# Compute evaluation metrics\n",
        "accuracy = accuracy_score(test_labels, pred_labels)\n",
        "precision, recall, f1, _ = precision_recall_fscore_support(test_labels, pred_labels, average='weighted')\n",
        "\n",
        "print(\"Test Accuracy:\", accuracy)\n",
        "print(\"Precision:\", precision)\n",
        "print(\"Recall:\", recall)\n",
        "print(\"F1-score:\", f1)"
      ]
    },
    {
      "cell_type": "code",
      "execution_count": null,
      "id": "a3f062ec",
      "metadata": {
        "id": "a3f062ec",
        "outputId": "299f0dbd-856f-46a4-af6f-050b5e133323"
      },
      "outputs": [
        {
          "name": "stdout",
          "output_type": "stream",
          "text": [
            "\n",
            "Classification Report:\n",
            "               precision    recall  f1-score   support\n",
            "\n",
            " NotMentioned       0.72      0.65      0.68       903\n",
            "   Entailment       0.73      0.78      0.75       968\n",
            "Contradiction       0.48      0.54      0.50       220\n",
            "\n",
            "     accuracy                           0.70      2091\n",
            "    macro avg       0.64      0.65      0.65      2091\n",
            " weighted avg       0.70      0.70      0.70      2091\n",
            "\n"
          ]
        }
      ],
      "source": [
        "class_names = list(label_mapping.keys())\n",
        "print(\"\\nClassification Report:\")\n",
        "print(classification_report(test_labels, pred_labels, target_names=class_names))"
      ]
    },
    {
      "cell_type": "markdown",
      "id": "f7c47ff6",
      "metadata": {
        "id": "f7c47ff6"
      },
      "source": [
        "#### Evaluate MobileBERT model on test dataset"
      ]
    },
    {
      "cell_type": "code",
      "execution_count": null,
      "id": "2fbf43f9",
      "metadata": {
        "colab": {
          "base_uri": "https://localhost:8080/",
          "height": 86
        },
        "id": "2fbf43f9",
        "outputId": "322ef591-9089-4c2f-e58b-3f4a80f8dfba"
      },
      "outputs": [
        {
          "data": {
            "text/html": [],
            "text/plain": [
              "<IPython.core.display.HTML object>"
            ]
          },
          "metadata": {},
          "output_type": "display_data"
        },
        {
          "name": "stdout",
          "output_type": "stream",
          "text": [
            "Confusion Matrix:\n",
            "[[617 215  71]\n",
            " [139 795  34]\n",
            " [ 37  45 138]]\n"
          ]
        }
      ],
      "source": [
        "# Use the Trainer.predict() method to get predictions\n",
        "predictions1 = trainer_mobilebert.predict(test_dataset)\n",
        "pred_labels1 = predictions1.predictions.argmax(axis=1)\n",
        "\n",
        "confusion_mat = confusion_matrix(test_labels, pred_labels1)\n",
        "print(\"Confusion Matrix:\")\n",
        "print(confusion_mat)"
      ]
    },
    {
      "cell_type": "code",
      "execution_count": null,
      "id": "7cf8ece9",
      "metadata": {
        "colab": {
          "base_uri": "https://localhost:8080/"
        },
        "id": "7cf8ece9",
        "outputId": "b7a1b345-a8c8-4503-ed2e-db87c5f12ef8"
      },
      "outputs": [
        {
          "name": "stdout",
          "output_type": "stream",
          "text": [
            "Test Accuracy: 0.741272118603539\n",
            "Precision: 0.7446032571645431\n",
            "Recall: 0.741272118603539\n",
            "F1-score: 0.7407810015851901\n"
          ]
        }
      ],
      "source": [
        "# Compute evaluation metrics\n",
        "accuracy = accuracy_score(test_labels, pred_labels1)\n",
        "precision, recall, f1, _ = precision_recall_fscore_support(test_labels, pred_labels1, average='weighted')\n",
        "\n",
        "print(\"Test Accuracy:\", accuracy)\n",
        "print(\"Precision:\", precision)\n",
        "print(\"Recall:\", recall)\n",
        "print(\"F1-score:\", f1)"
      ]
    },
    {
      "cell_type": "code",
      "execution_count": null,
      "id": "b75d60b7",
      "metadata": {
        "colab": {
          "base_uri": "https://localhost:8080/"
        },
        "id": "b75d60b7",
        "outputId": "295c0835-3408-4aa5-86cd-0244b43dda3b"
      },
      "outputs": [
        {
          "name": "stdout",
          "output_type": "stream",
          "text": [
            "\n",
            "Classification Report:\n",
            "               precision    recall  f1-score   support\n",
            "\n",
            " NotMentioned       0.78      0.68      0.73       903\n",
            "   Entailment       0.75      0.82      0.79       968\n",
            "Contradiction       0.57      0.63      0.60       220\n",
            "\n",
            "     accuracy                           0.74      2091\n",
            "    macro avg       0.70      0.71      0.70      2091\n",
            " weighted avg       0.74      0.74      0.74      2091\n",
            "\n"
          ]
        }
      ],
      "source": [
        "class_names = list(label_mapping.keys())\n",
        "print(\"\\nClassification Report:\")\n",
        "print(classification_report(test_labels, pred_labels1, target_names=class_names))"
      ]
    },
    {
      "cell_type": "markdown",
      "id": "65b79a7d",
      "metadata": {
        "id": "65b79a7d"
      },
      "source": [
        "A summary of the performance analysis of the two models on the test dataset:\n",
        "\n",
        "**Model: distilbert-base-uncased**\n",
        "- Test Accuracy: 0.6958\n",
        "- Precision: 0.6988\n",
        "- Recall: 0.6958\n",
        "- F1-score: 0.6959\n",
        "\n",
        "**Classification Report:**\n",
        "```\n",
        "               precision    recall  f1-score   support\n",
        "\n",
        " NotMentioned       0.72      0.65      0.68       903\n",
        "   Entailment       0.73      0.78      0.75       968\n",
        "Contradiction       0.48      0.54      0.50       220\n",
        "\n",
        "     accuracy                           0.70      2091\n",
        "    macro avg       0.64      0.65      0.65      2091\n",
        " weighted avg       0.70      0.70      0.70      2091\n",
        "```\n",
        "\n",
        "**Model: google/mobilebert-uncased**\n",
        "- Test Accuracy: 0.7413\n",
        "- Precision: 0.7446\n",
        "- Recall: 0.7413\n",
        "- F1-score: 0.7408\n",
        "\n",
        "**Classification Report:**\n",
        "```\n",
        "               precision    recall  f1-score   support\n",
        "\n",
        " NotMentioned       0.78      0.68      0.73       903\n",
        "   Entailment       0.75      0.82      0.79       968\n",
        "Contradiction       0.57      0.63      0.60       220\n",
        "\n",
        "     accuracy                           0.74      2091\n",
        "    macro avg       0.70      0.71      0.70      2091\n",
        " weighted avg       0.74      0.74      0.74      2091\n",
        "```\n",
        "\n",
        "**Performance Analysis:**\n",
        "- The performance of both models is decent, but the MobileBERT model achieved higher accuracy, precision, recall, and F1-score compared to DistilBERT.\n",
        "- MobileBERT performed better across all three classes: NotMentioned, Entailment, and Contradiction.\n",
        "- The classification report shows that the MobileBERT model achieved higher precision and recall for each class, resulting in a higher F1-score.\n",
        "- The confusion matrices reveal that both models tend to misclassify some instances, but the MobileBERT model has better overall classification results.\n",
        "\n",
        "**Conclusion:**\n",
        "\n",
        "Based on the evaluation metrics, it appears that the MobileBERT model outperforms the DistilBERT model on this particular dataset. The MobileBERT model showed higher accuracy and better precision-recall trade-offs across all three classes, indicating its better ability to capture meaningful patterns in the data. Therefore, for this specific task, the MobileBERT model is the preferred choice due to its higher performance."
      ]
    },
    {
      "cell_type": "markdown",
      "id": "ca9c8382",
      "metadata": {
        "id": "ca9c8382"
      },
      "source": [
        "### Error Analysis for Electra model"
      ]
    },
    {
      "cell_type": "code",
      "execution_count": null,
      "id": "b1acaa4b",
      "metadata": {
        "id": "b1acaa4b"
      },
      "outputs": [],
      "source": [
        "# Perform error analysis for MobileBERT\n",
        "# You can further analyze misclassifications, common patterns, and explore specific examples.\n",
        "# Function to perform error analysis\n",
        "def error_analysis(predictions, true_labels, test_df):\n",
        "    # Create a list to store misclassifications\n",
        "    misclassifications = []\n",
        "\n",
        "    # Iterate through each example in the test dataset\n",
        "    for idx in range(len(predictions)):\n",
        "        # Get the predicted and true labels for the current example\n",
        "        predicted_label = predictions[idx]\n",
        "        true_label = true_labels[idx]\n",
        "\n",
        "        # Get the text and hypothesis for the current example\n",
        "        text = test_df.iloc[idx]['text']\n",
        "        hypothesis = test_df.iloc[idx]['hypothesis']\n",
        "\n",
        "        # Check if the predicted label matches the true label\n",
        "        if predicted_label != true_label:\n",
        "            # Append the misclassification details to the list\n",
        "            misclassifications.append({\n",
        "                'text': text,\n",
        "                'hypothesis': hypothesis,\n",
        "                'true_label': true_label,\n",
        "                'predicted_label': predicted_label\n",
        "            })\n",
        "\n",
        "    return misclassifications"
      ]
    },
    {
      "cell_type": "code",
      "execution_count": null,
      "id": "7e2bb65a",
      "metadata": {
        "id": "7e2bb65a",
        "outputId": "db82c8ea-da49-4cef-b421-deb649f8e7a7"
      },
      "outputs": [
        {
          "name": "stdout",
          "output_type": "stream",
          "text": [
            "Incorrect predictions: 636 out of 2091\n"
          ]
        }
      ],
      "source": [
        "# Identify incorrect predictions\n",
        "incorrect_preds = []\n",
        "for i in range(len(pred_labels)):\n",
        "    if pred_labels[i] != test_labels[i]:\n",
        "        incorrect_preds.append(i)\n",
        "\n",
        "# Print the incorrect predictions\n",
        "print(f\"Incorrect predictions: {len(incorrect_preds)} out of {len(pred_labels)}\")\n",
        "# print(f\"Incorrect prediction indices: {incorrect_preds}\")"
      ]
    },
    {
      "cell_type": "code",
      "execution_count": null,
      "id": "42feb2f7",
      "metadata": {
        "id": "42feb2f7",
        "outputId": "786a7f24-7350-4c6f-a484-c0db1bfa065e"
      },
      "outputs": [
        {
          "name": "stdout",
          "output_type": "stream",
          "text": [
            "Misclassifications for Electra:\n",
            "Text: NON-DISCLOSURE AGREEMENT\n",
            "Required under JEA's Confidential Information Protection Program\n",
            "THIS NON-DISCLOSURE AGREEMENT (\"Agreement\") is entered into this ______day of\n",
            "__________ by and between JEA, l\n",
            "----------------------------------------------\n",
            "Hypothesis: All Confidential Information shall be expressly identified by the Disclosing Party.\n",
            "----------------------------------------------\n",
            "True Label: 2\n",
            "----------------------------------------------\n",
            "Predicted Label: 0\n",
            "\n",
            "Text: NON-DISCLOSURE AGREEMENT\n",
            "Required under JEA's Confidential Information Protection Program\n",
            "THIS NON-DISCLOSURE AGREEMENT (\"Agreement\") is entered into this ______day of\n",
            "__________ by and between JEA, l\n",
            "----------------------------------------------\n",
            "Hypothesis: Receiving Party may retain some Confidential Information even after the return or destruction of Confidential Information.\n",
            "----------------------------------------------\n",
            "True Label: 1\n",
            "----------------------------------------------\n",
            "Predicted Label: 0\n",
            "\n",
            "Text: NON-DISCLOSURE AGREEMENT\n",
            "Required under JEA's Confidential Information Protection Program\n",
            "THIS NON-DISCLOSURE AGREEMENT (\"Agreement\") is entered into this ______day of\n",
            "__________ by and between JEA, l\n",
            "----------------------------------------------\n",
            "Hypothesis: Confidential Information may include verbally conveyed information.\n",
            "----------------------------------------------\n",
            "True Label: 0\n",
            "----------------------------------------------\n",
            "Predicted Label: 1\n",
            "\n",
            "Text: NON-DISCLOSURE AGREEMENT\n",
            "Required under JEA's Confidential Information Protection Program\n",
            "THIS NON-DISCLOSURE AGREEMENT (\"Agreement\") is entered into this ______day of\n",
            "__________ by and between JEA, l\n",
            "----------------------------------------------\n",
            "Hypothesis: Receiving Party may share some Confidential Information with some third-parties (including consultants, agents and professional advisors).\n",
            "----------------------------------------------\n",
            "True Label: 1\n",
            "----------------------------------------------\n",
            "Predicted Label: 2\n",
            "\n",
            "Text: NON-DISCLOSURE AGREEMENT\n",
            "Required under JEA's Confidential Information Protection Program\n",
            "THIS NON-DISCLOSURE AGREEMENT (\"Agreement\") is entered into this ______day of\n",
            "__________ by and between JEA, l\n",
            "----------------------------------------------\n",
            "Hypothesis: Receiving Party may create a copy of some Confidential Information in some circumstances.\n",
            "----------------------------------------------\n",
            "True Label: 1\n",
            "----------------------------------------------\n",
            "Predicted Label: 0\n",
            "\n",
            "Text: NON-DISCLOSURE AGREEMENT\n",
            "Required under JEA's Confidential Information Protection Program\n",
            "THIS NON-DISCLOSURE AGREEMENT (\"Agreement\") is entered into this ______day of\n",
            "__________ by and between JEA, l\n",
            "----------------------------------------------\n",
            "Hypothesis: Receiving Party shall notify Disclosing Party in case Receiving Party is required by law, regulation or judicial process to disclose any Confidential Information.\n",
            "----------------------------------------------\n",
            "True Label: 1\n",
            "----------------------------------------------\n",
            "Predicted Label: 0\n",
            "\n",
            "Text: MUTUAL NON-DISCLOSURE AGREEMENT\n",
            "Between\n",
            "AND\n",
            "Subject Matter:\n",
            "Effective Date of Agreement: Period , 2017\n",
            "for Exchange of Information: , 2017 to\n",
            "Period of Confidentiality:\n",
            "THIS AGREEMENT is made as of th\n",
            "----------------------------------------------\n",
            "Hypothesis: Receiving Party shall not reverse engineer any objects which embody Disclosing Party's Confidential Information.\n",
            "----------------------------------------------\n",
            "True Label: 1\n",
            "----------------------------------------------\n",
            "Predicted Label: 0\n",
            "\n",
            "Text: MUTUAL NON-DISCLOSURE AGREEMENT\n",
            "Between\n",
            "AND\n",
            "Subject Matter:\n",
            "Effective Date of Agreement: Period , 2017\n",
            "for Exchange of Information: , 2017 to\n",
            "Period of Confidentiality:\n",
            "THIS AGREEMENT is made as of th\n",
            "----------------------------------------------\n",
            "Hypothesis: Receiving Party may retain some Confidential Information even after the return or destruction of Confidential Information.\n",
            "----------------------------------------------\n",
            "True Label: 1\n",
            "----------------------------------------------\n",
            "Predicted Label: 2\n",
            "\n",
            "Text: MUTUAL NON-DISCLOSURE AGREEMENT\n",
            "Between\n",
            "AND\n",
            "Subject Matter:\n",
            "Effective Date of Agreement: Period , 2017\n",
            "for Exchange of Information: , 2017 to\n",
            "Period of Confidentiality:\n",
            "THIS AGREEMENT is made as of th\n",
            "----------------------------------------------\n",
            "Hypothesis: Receiving Party may share some Confidential Information with some third-parties (including consultants, agents and professional advisors).\n",
            "----------------------------------------------\n",
            "True Label: 2\n",
            "----------------------------------------------\n",
            "Predicted Label: 1\n",
            "\n",
            "Text: MUTUAL NON-DISCLOSURE AGREEMENT\n",
            "Between\n",
            "AND\n",
            "Subject Matter:\n",
            "Effective Date of Agreement: Period , 2017\n",
            "for Exchange of Information: , 2017 to\n",
            "Period of Confidentiality:\n",
            "THIS AGREEMENT is made as of th\n",
            "----------------------------------------------\n",
            "Hypothesis: Receiving Party may create a copy of some Confidential Information in some circumstances.\n",
            "----------------------------------------------\n",
            "True Label: 1\n",
            "----------------------------------------------\n",
            "Predicted Label: 0\n",
            "\n"
          ]
        }
      ],
      "source": [
        "# Perform error analysis for Electra model\n",
        "# predictions_electra = results1['predictions'].argmax(axis=1)\n",
        "misclassifications_electra = error_analysis(pred_labels, test_labels, test_df)\n",
        "\n",
        "# Print the misclassifications for Electra model\n",
        "print(\"Misclassifications for Electra:\")\n",
        "for misclassification in misclassifications_electra[:10]:   # print only 10 of them\n",
        "\n",
        "    print(f\"Text: {misclassification['text'][:200]}\")   # first 200 letters of the text\n",
        "    print(\"----------------------------------------------\")\n",
        "    print(f\"Hypothesis: {misclassification['hypothesis']}\")\n",
        "    print(\"----------------------------------------------\")\n",
        "    print(f\"True Label: {misclassification['true_label']}\")\n",
        "    print(\"----------------------------------------------\")\n",
        "    print(f\"Predicted Label: {misclassification['predicted_label']}\")\n",
        "    print()"
      ]
    },
    {
      "cell_type": "markdown",
      "id": "8752bba0",
      "metadata": {
        "id": "8752bba0"
      },
      "source": [
        "### Error Analysis for MobileBERT model"
      ]
    },
    {
      "cell_type": "code",
      "execution_count": null,
      "id": "d8a3ecba",
      "metadata": {
        "colab": {
          "base_uri": "https://localhost:8080/"
        },
        "id": "d8a3ecba",
        "outputId": "7531cced-daaa-4515-b403-a81213af30fa"
      },
      "outputs": [
        {
          "name": "stdout",
          "output_type": "stream",
          "text": [
            "Incorrect predictions: 541 out of 2091\n"
          ]
        }
      ],
      "source": [
        "# Identify incorrect predictions\n",
        "incorrect_preds = []\n",
        "for i in range(len(pred_labels1)):\n",
        "    if pred_labels1[i] != test_labels[i]:\n",
        "        incorrect_preds.append(i)\n",
        "\n",
        "# Print the incorrect predictions\n",
        "print(f\"Incorrect predictions: {len(incorrect_preds)} out of {len(pred_labels1)}\")\n",
        "# print(f\"Incorrect prediction indices: {incorrect_preds}\")"
      ]
    },
    {
      "cell_type": "code",
      "execution_count": null,
      "id": "8aa98cdb",
      "metadata": {
        "colab": {
          "base_uri": "https://localhost:8080/"
        },
        "id": "8aa98cdb",
        "outputId": "85183309-9196-4326-d7ca-1a7764ef6b2b"
      },
      "outputs": [
        {
          "name": "stdout",
          "output_type": "stream",
          "text": [
            "Misclassifications for Electra:\n",
            "Text: NON-DISCLOSURE AGREEMENT\n",
            "Required under JEA's Confidential Information Protection Program\n",
            "THIS NON-DISCLOSURE AGREEMENT (\"Agreement\") is entered into this ______day of\n",
            "__________ by and between JEA, l\n",
            "----------------------------------------------\n",
            "Hypothesis: All Confidential Information shall be expressly identified by the Disclosing Party.\n",
            "----------------------------------------------\n",
            "True Label: 2\n",
            "----------------------------------------------\n",
            "Predicted Label: 0\n",
            "\n",
            "Text: NON-DISCLOSURE AGREEMENT\n",
            "Required under JEA's Confidential Information Protection Program\n",
            "THIS NON-DISCLOSURE AGREEMENT (\"Agreement\") is entered into this ______day of\n",
            "__________ by and between JEA, l\n",
            "----------------------------------------------\n",
            "Hypothesis: Receiving Party may independently develop information similar to Confidential Information.\n",
            "----------------------------------------------\n",
            "True Label: 1\n",
            "----------------------------------------------\n",
            "Predicted Label: 0\n",
            "\n",
            "Text: NON-DISCLOSURE AGREEMENT\n",
            "Required under JEA's Confidential Information Protection Program\n",
            "THIS NON-DISCLOSURE AGREEMENT (\"Agreement\") is entered into this ______day of\n",
            "__________ by and between JEA, l\n",
            "----------------------------------------------\n",
            "Hypothesis: Receiving Party may retain some Confidential Information even after the return or destruction of Confidential Information.\n",
            "----------------------------------------------\n",
            "True Label: 1\n",
            "----------------------------------------------\n",
            "Predicted Label: 0\n",
            "\n",
            "Text: NON-DISCLOSURE AGREEMENT\n",
            "Required under JEA's Confidential Information Protection Program\n",
            "THIS NON-DISCLOSURE AGREEMENT (\"Agreement\") is entered into this ______day of\n",
            "__________ by and between JEA, l\n",
            "----------------------------------------------\n",
            "Hypothesis: Receiving Party may create a copy of some Confidential Information in some circumstances.\n",
            "----------------------------------------------\n",
            "True Label: 1\n",
            "----------------------------------------------\n",
            "Predicted Label: 0\n",
            "\n",
            "Text: NON-DISCLOSURE AGREEMENT\n",
            "Required under JEA's Confidential Information Protection Program\n",
            "THIS NON-DISCLOSURE AGREEMENT (\"Agreement\") is entered into this ______day of\n",
            "__________ by and between JEA, l\n",
            "----------------------------------------------\n",
            "Hypothesis: Receiving Party shall notify Disclosing Party in case Receiving Party is required by law, regulation or judicial process to disclose any Confidential Information.\n",
            "----------------------------------------------\n",
            "True Label: 1\n",
            "----------------------------------------------\n",
            "Predicted Label: 0\n",
            "\n",
            "Text: MUTUAL NON-DISCLOSURE AGREEMENT\n",
            "Between\n",
            "AND\n",
            "Subject Matter:\n",
            "Effective Date of Agreement: Period , 2017\n",
            "for Exchange of Information: , 2017 to\n",
            "Period of Confidentiality:\n",
            "THIS AGREEMENT is made as of th\n",
            "----------------------------------------------\n",
            "Hypothesis: Receiving Party shall not reverse engineer any objects which embody Disclosing Party's Confidential Information.\n",
            "----------------------------------------------\n",
            "True Label: 1\n",
            "----------------------------------------------\n",
            "Predicted Label: 0\n",
            "\n",
            "Text: MUTUAL NON-DISCLOSURE AGREEMENT\n",
            "Between\n",
            "AND\n",
            "Subject Matter:\n",
            "Effective Date of Agreement: Period , 2017\n",
            "for Exchange of Information: , 2017 to\n",
            "Period of Confidentiality:\n",
            "THIS AGREEMENT is made as of th\n",
            "----------------------------------------------\n",
            "Hypothesis: Receiving Party may retain some Confidential Information even after the return or destruction of Confidential Information.\n",
            "----------------------------------------------\n",
            "True Label: 1\n",
            "----------------------------------------------\n",
            "Predicted Label: 2\n",
            "\n",
            "Text: MUTUAL NON-DISCLOSURE AGREEMENT\n",
            "Between\n",
            "AND\n",
            "Subject Matter:\n",
            "Effective Date of Agreement: Period , 2017\n",
            "for Exchange of Information: , 2017 to\n",
            "Period of Confidentiality:\n",
            "THIS AGREEMENT is made as of th\n",
            "----------------------------------------------\n",
            "Hypothesis: Receiving Party may share some Confidential Information with some third-parties (including consultants, agents and professional advisors).\n",
            "----------------------------------------------\n",
            "True Label: 2\n",
            "----------------------------------------------\n",
            "Predicted Label: 1\n",
            "\n",
            "Text: MUTUAL NON-DISCLOSURE AGREEMENT\n",
            "Between\n",
            "AND\n",
            "Subject Matter:\n",
            "Effective Date of Agreement: Period , 2017\n",
            "for Exchange of Information: , 2017 to\n",
            "Period of Confidentiality:\n",
            "THIS AGREEMENT is made as of th\n",
            "----------------------------------------------\n",
            "Hypothesis: Receiving Party may create a copy of some Confidential Information in some circumstances.\n",
            "----------------------------------------------\n",
            "True Label: 1\n",
            "----------------------------------------------\n",
            "Predicted Label: 0\n",
            "\n",
            "Text: MUTUAL NON-DISCLOSURE AGREEMENT\n",
            "Between\n",
            "AND\n",
            "Subject Matter:\n",
            "Effective Date of Agreement: Period , 2017\n",
            "for Exchange of Information: , 2017 to\n",
            "Period of Confidentiality:\n",
            "THIS AGREEMENT is made as of th\n",
            "----------------------------------------------\n",
            "Hypothesis: Receiving Party shall not use any Confidential Information for any purpose other than the purposes stated in Agreement.\n",
            "----------------------------------------------\n",
            "True Label: 0\n",
            "----------------------------------------------\n",
            "Predicted Label: 1\n",
            "\n"
          ]
        }
      ],
      "source": [
        "# Perform error analysis for Electra model\n",
        "# predictions_electra = results1['predictions'].argmax(axis=1)\n",
        "misclassifications_mobilebert = error_analysis(pred_labels1, test_labels, test_df)\n",
        "\n",
        "# Print the misclassifications for Electra model\n",
        "print(\"Misclassifications for Electra:\")\n",
        "for misclassification in misclassifications_mobilebert[:10]:   # print only 10 of them\n",
        "\n",
        "    print(f\"Text: {misclassification['text'][:200]}\")   # first 200 letters of the text\n",
        "    print(\"----------------------------------------------\")\n",
        "    print(f\"Hypothesis: {misclassification['hypothesis']}\")\n",
        "    print(\"----------------------------------------------\")\n",
        "    print(f\"True Label: {misclassification['true_label']}\")\n",
        "    print(\"----------------------------------------------\")\n",
        "    print(f\"Predicted Label: {misclassification['predicted_label']}\")\n",
        "    print()"
      ]
    },
    {
      "cell_type": "markdown",
      "id": "c0216194",
      "metadata": {
        "id": "c0216194"
      },
      "source": [
        "A summary of the error anaylsis performed on both models\n",
        "\n",
        "**Error Analysis:**\n",
        "\n",
        "Error analysis is a crucial step to understand the reasons behind the misclassifications and identify patterns that the models struggle with. Here's how the error analysis is performed for both models:\n",
        "\n",
        "**Model: distilbert-base-uncased** (Electra model)\n",
        "- Total Incorrect Predictions: 636 out of 2091\n",
        "\n",
        "**Misclassifications for Electra:**\n",
        "1. The first example is a non-disclosure agreement, and the model misclassified it as \"NotMentioned\" (label 0) instead of \"Contradiction\" (label 2). The hypothesis talks about the identification of confidential information by the disclosing party, which is contradictory to the text.\n",
        "2. Similarly, the model misclassified the second example as \"NotMentioned\" instead of \"Entailment\" (label 1). The hypothesis suggests that the receiving party may independently develop information similar to confidential information, which should be entailed by the text.\n",
        "3. The model also misclassified the third example, predicting \"NotMentioned\" instead of the correct \"Entailment\" (label 1). The hypothesis mentions that the receiving party may retain some confidential information even after its return or destruction, which should be entailed by the text.\n",
        "4. In the fourth example, the model misclassified it as \"NotMentioned\" instead of \"Entailment.\" The hypothesis talks about the creation of a copy of some confidential information, which should be entailed by the text.\n",
        "5. The fifth example was misclassified as \"NotMentioned\" instead of \"Entailment.\" The hypothesis mentions notifying the disclosing party under certain circumstances, which should be entailed by the text.\n",
        "6. In the sixth example, the model predicted \"NotMentioned\" instead of the true \"Entailment.\" The hypothesis is about not reverse engineering confidential information, which should be entailed by the text.\n",
        "\n",
        "**Model: google/mobilebert-uncased** (MobileBERT model)\n",
        "- Total Incorrect Predictions: 541 out of 2091\n",
        "\n",
        "**Misclassifications for MobileBERT:**\n",
        "1. The first example is a non-disclosure agreement, and the model misclassified it as \"NotMentioned\" (label 0) instead of \"Contradiction\" (label 2). The hypothesis suggests that all confidential information should be expressly identified by the disclosing party, which contradicts the text.\n",
        "2. The second example was misclassified as \"NotMentioned\" instead of \"Entailment\" (label 1). The hypothesis mentions that the receiving party may independently develop information similar to confidential information, which should be entailed by the text.\n",
        "3. In the third example, the model misclassified it as \"NotMentioned\" instead of \"Entailment.\" The hypothesis talks about retaining some confidential information even after its return or destruction, which should be entailed by the text.\n",
        "4. Similarly, the fourth example was misclassified as \"NotMentioned\" instead of \"Entailment.\" The hypothesis mentions creating a copy of some confidential information, which should be entailed by the text.\n",
        "5. The fifth example is misclassified as \"NotMentioned\" instead of \"Entailment.\" The hypothesis is about notifying the disclosing party under certain circumstances, which should be entailed by the text.\n",
        "6. In the sixth example, the model predicted \"NotMentioned\" instead of the true \"Entailment.\" The hypothesis is about not reverse engineering confidential information, which should be entailed by the text.\n",
        "\n",
        "**Observations:**\n",
        "- Both models seem to have difficulty in handling certain types of contradictions and entailments between the text and hypothesis.\n",
        "- The examples show that the context of the contract and the implications of the clauses are not well captured by the models in these cases.\n",
        "- It is possible that the models may need more context or a better understanding of the legal language used in contracts to improve their performance."
      ]
    },
    {
      "cell_type": "markdown",
      "id": "5a32dae0",
      "metadata": {
        "id": "5a32dae0"
      },
      "source": [
        "## Step 4\n",
        "##### You do not need to write any code in this question. Based on step 3 and external readings, propose two ideas to improve the approaches (i.e., directly fine-tune pre-trained models) used in step 2."
      ]
    },
    {
      "cell_type": "markdown",
      "id": "OwOyx8gDSyg0",
      "metadata": {
        "id": "OwOyx8gDSyg0"
      },
      "source": [
        "**Proposal to Improve the approaches used in step 2:**\n",
        "\n",
        "1. **Task-Specific Pre-training:** Pre-train the models on a large corpus of legal text data to enable better understanding of legal language and nuances. By focusing on domain-specific pre-training, the models can learn context, terminology, and jargon used in contracts, leading to improved performance on the contract classification task.\n",
        "\n",
        "2. **Ensemble Models:** Create an ensemble of pre-trained models, including variants of BERT (e.g., DistilBERT, MobileBERT), and fine-tune them on the contract classification dataset. Ensembling combines the strengths of individual models, mitigating their weaknesses. It allows the system to leverage diverse model abilities and enhance overall performance and robustness.\n",
        "\n",
        "3. **Data Augmentation:** Generate augmented data by applying transformations to existing contract samples. Techniques like paraphrasing, synonym replacement, or contextual word insertion can help increase the diversity of the training data. Augmentation enables the models to see varied instances of contract language, reducing overfitting and improving generalization.\n",
        "\n",
        "4. **Adversarial Training:** Introduce adversarial examples during fine-tuning to make the models more robust. By adding perturbations to the input data, the models learn to resist slight changes in the contract's language, reducing their sensitivity to small variations and improving their resilience against adversarial attacks."
      ]
    }
  ],
  "metadata": {
    "accelerator": "GPU",
    "colab": {
      "gpuType": "T4",
      "provenance": []
    },
    "kernelspec": {
      "display_name": "Python 3 (ipykernel)",
      "language": "python",
      "name": "python3"
    },
    "language_info": {
      "codemirror_mode": {
        "name": "ipython",
        "version": 3
      },
      "file_extension": ".py",
      "mimetype": "text/x-python",
      "name": "python",
      "nbconvert_exporter": "python",
      "pygments_lexer": "ipython3",
      "version": "3.9.16"
    },
    "widgets": {
      "application/vnd.jupyter.widget-state+json": {
        "0530b7ddccc0495f89029387b2e4c8be": {
          "model_module": "@jupyter-widgets/controls",
          "model_module_version": "1.5.0",
          "model_name": "HTMLModel",
          "state": {
            "_dom_classes": [],
            "_model_module": "@jupyter-widgets/controls",
            "_model_module_version": "1.5.0",
            "_model_name": "HTMLModel",
            "_view_count": null,
            "_view_module": "@jupyter-widgets/controls",
            "_view_module_version": "1.5.0",
            "_view_name": "HTMLView",
            "description": "",
            "description_tooltip": null,
            "layout": "IPY_MODEL_a6d097f8a15c46e0ae587bbeb5ce2ede",
            "placeholder": "​",
            "style": "IPY_MODEL_a3d0c61d89614c4e902079fb72f78e42",
            "value": " 147M/147M [00:00&lt;00:00, 377MB/s]"
          }
        },
        "09d9f02220764330b496795e1e3bad78": {
          "model_module": "@jupyter-widgets/controls",
          "model_module_version": "1.5.0",
          "model_name": "HBoxModel",
          "state": {
            "_dom_classes": [],
            "_model_module": "@jupyter-widgets/controls",
            "_model_module_version": "1.5.0",
            "_model_name": "HBoxModel",
            "_view_count": null,
            "_view_module": "@jupyter-widgets/controls",
            "_view_module_version": "1.5.0",
            "_view_name": "HBoxView",
            "box_style": "",
            "children": [
              "IPY_MODEL_b0d5788db41c4cb99cd34786730abaac",
              "IPY_MODEL_ec2c8643e8ff4b54bbcc4a524525a0d0",
              "IPY_MODEL_c07871c9b5084d8bbe0d3fa924463616"
            ],
            "layout": "IPY_MODEL_772f402ef9404eb4a0ca0699e62aebe0"
          }
        },
        "12d9744571aa439abc5f7d9f2fee8162": {
          "model_module": "@jupyter-widgets/base",
          "model_module_version": "1.2.0",
          "model_name": "LayoutModel",
          "state": {
            "_model_module": "@jupyter-widgets/base",
            "_model_module_version": "1.2.0",
            "_model_name": "LayoutModel",
            "_view_count": null,
            "_view_module": "@jupyter-widgets/base",
            "_view_module_version": "1.2.0",
            "_view_name": "LayoutView",
            "align_content": null,
            "align_items": null,
            "align_self": null,
            "border": null,
            "bottom": null,
            "display": null,
            "flex": null,
            "flex_flow": null,
            "grid_area": null,
            "grid_auto_columns": null,
            "grid_auto_flow": null,
            "grid_auto_rows": null,
            "grid_column": null,
            "grid_gap": null,
            "grid_row": null,
            "grid_template_areas": null,
            "grid_template_columns": null,
            "grid_template_rows": null,
            "height": null,
            "justify_content": null,
            "justify_items": null,
            "left": null,
            "margin": null,
            "max_height": null,
            "max_width": null,
            "min_height": null,
            "min_width": null,
            "object_fit": null,
            "object_position": null,
            "order": null,
            "overflow": null,
            "overflow_x": null,
            "overflow_y": null,
            "padding": null,
            "right": null,
            "top": null,
            "visibility": null,
            "width": null
          }
        },
        "1a1e2a342236460eb993937ffbb96ad9": {
          "model_module": "@jupyter-widgets/controls",
          "model_module_version": "1.5.0",
          "model_name": "ProgressStyleModel",
          "state": {
            "_model_module": "@jupyter-widgets/controls",
            "_model_module_version": "1.5.0",
            "_model_name": "ProgressStyleModel",
            "_view_count": null,
            "_view_module": "@jupyter-widgets/base",
            "_view_module_version": "1.2.0",
            "_view_name": "StyleView",
            "bar_color": null,
            "description_width": ""
          }
        },
        "1becba766f5d41a2a754b184d204d52f": {
          "model_module": "@jupyter-widgets/controls",
          "model_module_version": "1.5.0",
          "model_name": "ProgressStyleModel",
          "state": {
            "_model_module": "@jupyter-widgets/controls",
            "_model_module_version": "1.5.0",
            "_model_name": "ProgressStyleModel",
            "_view_count": null,
            "_view_module": "@jupyter-widgets/base",
            "_view_module_version": "1.2.0",
            "_view_name": "StyleView",
            "bar_color": null,
            "description_width": ""
          }
        },
        "1edf01968dd94b1093bdd3c4e2754f09": {
          "model_module": "@jupyter-widgets/base",
          "model_module_version": "1.2.0",
          "model_name": "LayoutModel",
          "state": {
            "_model_module": "@jupyter-widgets/base",
            "_model_module_version": "1.2.0",
            "_model_name": "LayoutModel",
            "_view_count": null,
            "_view_module": "@jupyter-widgets/base",
            "_view_module_version": "1.2.0",
            "_view_name": "LayoutView",
            "align_content": null,
            "align_items": null,
            "align_self": null,
            "border": null,
            "bottom": null,
            "display": null,
            "flex": null,
            "flex_flow": null,
            "grid_area": null,
            "grid_auto_columns": null,
            "grid_auto_flow": null,
            "grid_auto_rows": null,
            "grid_column": null,
            "grid_gap": null,
            "grid_row": null,
            "grid_template_areas": null,
            "grid_template_columns": null,
            "grid_template_rows": null,
            "height": null,
            "justify_content": null,
            "justify_items": null,
            "left": null,
            "margin": null,
            "max_height": null,
            "max_width": null,
            "min_height": null,
            "min_width": null,
            "object_fit": null,
            "object_position": null,
            "order": null,
            "overflow": null,
            "overflow_x": null,
            "overflow_y": null,
            "padding": null,
            "right": null,
            "top": null,
            "visibility": null,
            "width": null
          }
        },
        "2bd0d55b14c64f51b4288e9d9ad9a51b": {
          "model_module": "@jupyter-widgets/base",
          "model_module_version": "1.2.0",
          "model_name": "LayoutModel",
          "state": {
            "_model_module": "@jupyter-widgets/base",
            "_model_module_version": "1.2.0",
            "_model_name": "LayoutModel",
            "_view_count": null,
            "_view_module": "@jupyter-widgets/base",
            "_view_module_version": "1.2.0",
            "_view_name": "LayoutView",
            "align_content": null,
            "align_items": null,
            "align_self": null,
            "border": null,
            "bottom": null,
            "display": null,
            "flex": null,
            "flex_flow": null,
            "grid_area": null,
            "grid_auto_columns": null,
            "grid_auto_flow": null,
            "grid_auto_rows": null,
            "grid_column": null,
            "grid_gap": null,
            "grid_row": null,
            "grid_template_areas": null,
            "grid_template_columns": null,
            "grid_template_rows": null,
            "height": null,
            "justify_content": null,
            "justify_items": null,
            "left": null,
            "margin": null,
            "max_height": null,
            "max_width": null,
            "min_height": null,
            "min_width": null,
            "object_fit": null,
            "object_position": null,
            "order": null,
            "overflow": null,
            "overflow_x": null,
            "overflow_y": null,
            "padding": null,
            "right": null,
            "top": null,
            "visibility": null,
            "width": null
          }
        },
        "3653e819259944cd8add43d46c1a2b24": {
          "model_module": "@jupyter-widgets/base",
          "model_module_version": "1.2.0",
          "model_name": "LayoutModel",
          "state": {
            "_model_module": "@jupyter-widgets/base",
            "_model_module_version": "1.2.0",
            "_model_name": "LayoutModel",
            "_view_count": null,
            "_view_module": "@jupyter-widgets/base",
            "_view_module_version": "1.2.0",
            "_view_name": "LayoutView",
            "align_content": null,
            "align_items": null,
            "align_self": null,
            "border": null,
            "bottom": null,
            "display": null,
            "flex": null,
            "flex_flow": null,
            "grid_area": null,
            "grid_auto_columns": null,
            "grid_auto_flow": null,
            "grid_auto_rows": null,
            "grid_column": null,
            "grid_gap": null,
            "grid_row": null,
            "grid_template_areas": null,
            "grid_template_columns": null,
            "grid_template_rows": null,
            "height": null,
            "justify_content": null,
            "justify_items": null,
            "left": null,
            "margin": null,
            "max_height": null,
            "max_width": null,
            "min_height": null,
            "min_width": null,
            "object_fit": null,
            "object_position": null,
            "order": null,
            "overflow": null,
            "overflow_x": null,
            "overflow_y": null,
            "padding": null,
            "right": null,
            "top": null,
            "visibility": null,
            "width": null
          }
        },
        "434e45c13495497c807fe4958de02099": {
          "model_module": "@jupyter-widgets/controls",
          "model_module_version": "1.5.0",
          "model_name": "HBoxModel",
          "state": {
            "_dom_classes": [],
            "_model_module": "@jupyter-widgets/controls",
            "_model_module_version": "1.5.0",
            "_model_name": "HBoxModel",
            "_view_count": null,
            "_view_module": "@jupyter-widgets/controls",
            "_view_module_version": "1.5.0",
            "_view_name": "HBoxView",
            "box_style": "",
            "children": [
              "IPY_MODEL_7fe3af882cce4ca08bb5a8dd5d1a663e",
              "IPY_MODEL_b53cca3fa9f7443faa1e397020679756",
              "IPY_MODEL_0530b7ddccc0495f89029387b2e4c8be"
            ],
            "layout": "IPY_MODEL_bec414ac3d3d41d6b3c2270ff1f2e5c0"
          }
        },
        "465f2e6b0a3a4bb39773a35e9fd8540f": {
          "model_module": "@jupyter-widgets/base",
          "model_module_version": "1.2.0",
          "model_name": "LayoutModel",
          "state": {
            "_model_module": "@jupyter-widgets/base",
            "_model_module_version": "1.2.0",
            "_model_name": "LayoutModel",
            "_view_count": null,
            "_view_module": "@jupyter-widgets/base",
            "_view_module_version": "1.2.0",
            "_view_name": "LayoutView",
            "align_content": null,
            "align_items": null,
            "align_self": null,
            "border": null,
            "bottom": null,
            "display": null,
            "flex": null,
            "flex_flow": null,
            "grid_area": null,
            "grid_auto_columns": null,
            "grid_auto_flow": null,
            "grid_auto_rows": null,
            "grid_column": null,
            "grid_gap": null,
            "grid_row": null,
            "grid_template_areas": null,
            "grid_template_columns": null,
            "grid_template_rows": null,
            "height": null,
            "justify_content": null,
            "justify_items": null,
            "left": null,
            "margin": null,
            "max_height": null,
            "max_width": null,
            "min_height": null,
            "min_width": null,
            "object_fit": null,
            "object_position": null,
            "order": null,
            "overflow": null,
            "overflow_x": null,
            "overflow_y": null,
            "padding": null,
            "right": null,
            "top": null,
            "visibility": null,
            "width": null
          }
        },
        "5677f703ee034c34b337bdbd2a6d91b1": {
          "model_module": "@jupyter-widgets/controls",
          "model_module_version": "1.5.0",
          "model_name": "HTMLModel",
          "state": {
            "_dom_classes": [],
            "_model_module": "@jupyter-widgets/controls",
            "_model_module_version": "1.5.0",
            "_model_name": "HTMLModel",
            "_view_count": null,
            "_view_module": "@jupyter-widgets/controls",
            "_view_module_version": "1.5.0",
            "_view_name": "HTMLView",
            "description": "",
            "description_tooltip": null,
            "layout": "IPY_MODEL_b0522dcc5f004418bf8c6c58923bf85a",
            "placeholder": "​",
            "style": "IPY_MODEL_ffbf83ebde1b43e99045ae8b778fb9f1",
            "value": " 232k/232k [00:00&lt;00:00, 552kB/s]"
          }
        },
        "577ca42d0a1349f98bd7d27278307483": {
          "model_module": "@jupyter-widgets/base",
          "model_module_version": "1.2.0",
          "model_name": "LayoutModel",
          "state": {
            "_model_module": "@jupyter-widgets/base",
            "_model_module_version": "1.2.0",
            "_model_name": "LayoutModel",
            "_view_count": null,
            "_view_module": "@jupyter-widgets/base",
            "_view_module_version": "1.2.0",
            "_view_name": "LayoutView",
            "align_content": null,
            "align_items": null,
            "align_self": null,
            "border": null,
            "bottom": null,
            "display": null,
            "flex": null,
            "flex_flow": null,
            "grid_area": null,
            "grid_auto_columns": null,
            "grid_auto_flow": null,
            "grid_auto_rows": null,
            "grid_column": null,
            "grid_gap": null,
            "grid_row": null,
            "grid_template_areas": null,
            "grid_template_columns": null,
            "grid_template_rows": null,
            "height": null,
            "justify_content": null,
            "justify_items": null,
            "left": null,
            "margin": null,
            "max_height": null,
            "max_width": null,
            "min_height": null,
            "min_width": null,
            "object_fit": null,
            "object_position": null,
            "order": null,
            "overflow": null,
            "overflow_x": null,
            "overflow_y": null,
            "padding": null,
            "right": null,
            "top": null,
            "visibility": null,
            "width": null
          }
        },
        "5b57fcc0350d420d875ae7654be5e138": {
          "model_module": "@jupyter-widgets/controls",
          "model_module_version": "1.5.0",
          "model_name": "DescriptionStyleModel",
          "state": {
            "_model_module": "@jupyter-widgets/controls",
            "_model_module_version": "1.5.0",
            "_model_name": "DescriptionStyleModel",
            "_view_count": null,
            "_view_module": "@jupyter-widgets/base",
            "_view_module_version": "1.2.0",
            "_view_name": "StyleView",
            "description_width": ""
          }
        },
        "6b716ffb0bf546c092908f53e7a5fd4a": {
          "model_module": "@jupyter-widgets/base",
          "model_module_version": "1.2.0",
          "model_name": "LayoutModel",
          "state": {
            "_model_module": "@jupyter-widgets/base",
            "_model_module_version": "1.2.0",
            "_model_name": "LayoutModel",
            "_view_count": null,
            "_view_module": "@jupyter-widgets/base",
            "_view_module_version": "1.2.0",
            "_view_name": "LayoutView",
            "align_content": null,
            "align_items": null,
            "align_self": null,
            "border": null,
            "bottom": null,
            "display": null,
            "flex": null,
            "flex_flow": null,
            "grid_area": null,
            "grid_auto_columns": null,
            "grid_auto_flow": null,
            "grid_auto_rows": null,
            "grid_column": null,
            "grid_gap": null,
            "grid_row": null,
            "grid_template_areas": null,
            "grid_template_columns": null,
            "grid_template_rows": null,
            "height": null,
            "justify_content": null,
            "justify_items": null,
            "left": null,
            "margin": null,
            "max_height": null,
            "max_width": null,
            "min_height": null,
            "min_width": null,
            "object_fit": null,
            "object_position": null,
            "order": null,
            "overflow": null,
            "overflow_x": null,
            "overflow_y": null,
            "padding": null,
            "right": null,
            "top": null,
            "visibility": null,
            "width": null
          }
        },
        "6d1342cdbc824dea9a6dd78f54cac4cc": {
          "model_module": "@jupyter-widgets/controls",
          "model_module_version": "1.5.0",
          "model_name": "DescriptionStyleModel",
          "state": {
            "_model_module": "@jupyter-widgets/controls",
            "_model_module_version": "1.5.0",
            "_model_name": "DescriptionStyleModel",
            "_view_count": null,
            "_view_module": "@jupyter-widgets/base",
            "_view_module_version": "1.2.0",
            "_view_name": "StyleView",
            "description_width": ""
          }
        },
        "730db6797ea24f03beef2dc833667c18": {
          "model_module": "@jupyter-widgets/base",
          "model_module_version": "1.2.0",
          "model_name": "LayoutModel",
          "state": {
            "_model_module": "@jupyter-widgets/base",
            "_model_module_version": "1.2.0",
            "_model_name": "LayoutModel",
            "_view_count": null,
            "_view_module": "@jupyter-widgets/base",
            "_view_module_version": "1.2.0",
            "_view_name": "LayoutView",
            "align_content": null,
            "align_items": null,
            "align_self": null,
            "border": null,
            "bottom": null,
            "display": null,
            "flex": null,
            "flex_flow": null,
            "grid_area": null,
            "grid_auto_columns": null,
            "grid_auto_flow": null,
            "grid_auto_rows": null,
            "grid_column": null,
            "grid_gap": null,
            "grid_row": null,
            "grid_template_areas": null,
            "grid_template_columns": null,
            "grid_template_rows": null,
            "height": null,
            "justify_content": null,
            "justify_items": null,
            "left": null,
            "margin": null,
            "max_height": null,
            "max_width": null,
            "min_height": null,
            "min_width": null,
            "object_fit": null,
            "object_position": null,
            "order": null,
            "overflow": null,
            "overflow_x": null,
            "overflow_y": null,
            "padding": null,
            "right": null,
            "top": null,
            "visibility": null,
            "width": null
          }
        },
        "772f402ef9404eb4a0ca0699e62aebe0": {
          "model_module": "@jupyter-widgets/base",
          "model_module_version": "1.2.0",
          "model_name": "LayoutModel",
          "state": {
            "_model_module": "@jupyter-widgets/base",
            "_model_module_version": "1.2.0",
            "_model_name": "LayoutModel",
            "_view_count": null,
            "_view_module": "@jupyter-widgets/base",
            "_view_module_version": "1.2.0",
            "_view_name": "LayoutView",
            "align_content": null,
            "align_items": null,
            "align_self": null,
            "border": null,
            "bottom": null,
            "display": null,
            "flex": null,
            "flex_flow": null,
            "grid_area": null,
            "grid_auto_columns": null,
            "grid_auto_flow": null,
            "grid_auto_rows": null,
            "grid_column": null,
            "grid_gap": null,
            "grid_row": null,
            "grid_template_areas": null,
            "grid_template_columns": null,
            "grid_template_rows": null,
            "height": null,
            "justify_content": null,
            "justify_items": null,
            "left": null,
            "margin": null,
            "max_height": null,
            "max_width": null,
            "min_height": null,
            "min_width": null,
            "object_fit": null,
            "object_position": null,
            "order": null,
            "overflow": null,
            "overflow_x": null,
            "overflow_y": null,
            "padding": null,
            "right": null,
            "top": null,
            "visibility": null,
            "width": null
          }
        },
        "7fe3af882cce4ca08bb5a8dd5d1a663e": {
          "model_module": "@jupyter-widgets/controls",
          "model_module_version": "1.5.0",
          "model_name": "HTMLModel",
          "state": {
            "_dom_classes": [],
            "_model_module": "@jupyter-widgets/controls",
            "_model_module_version": "1.5.0",
            "_model_name": "HTMLModel",
            "_view_count": null,
            "_view_module": "@jupyter-widgets/controls",
            "_view_module_version": "1.5.0",
            "_view_name": "HTMLView",
            "description": "",
            "description_tooltip": null,
            "layout": "IPY_MODEL_2bd0d55b14c64f51b4288e9d9ad9a51b",
            "placeholder": "​",
            "style": "IPY_MODEL_f0a282183fb74f89b99d9a4278f238be",
            "value": "Downloading pytorch_model.bin: 100%"
          }
        },
        "80cf4e42a9c44ce7b8a012c83230ca27": {
          "model_module": "@jupyter-widgets/base",
          "model_module_version": "1.2.0",
          "model_name": "LayoutModel",
          "state": {
            "_model_module": "@jupyter-widgets/base",
            "_model_module_version": "1.2.0",
            "_model_name": "LayoutModel",
            "_view_count": null,
            "_view_module": "@jupyter-widgets/base",
            "_view_module_version": "1.2.0",
            "_view_name": "LayoutView",
            "align_content": null,
            "align_items": null,
            "align_self": null,
            "border": null,
            "bottom": null,
            "display": null,
            "flex": null,
            "flex_flow": null,
            "grid_area": null,
            "grid_auto_columns": null,
            "grid_auto_flow": null,
            "grid_auto_rows": null,
            "grid_column": null,
            "grid_gap": null,
            "grid_row": null,
            "grid_template_areas": null,
            "grid_template_columns": null,
            "grid_template_rows": null,
            "height": null,
            "justify_content": null,
            "justify_items": null,
            "left": null,
            "margin": null,
            "max_height": null,
            "max_width": null,
            "min_height": null,
            "min_width": null,
            "object_fit": null,
            "object_position": null,
            "order": null,
            "overflow": null,
            "overflow_x": null,
            "overflow_y": null,
            "padding": null,
            "right": null,
            "top": null,
            "visibility": null,
            "width": null
          }
        },
        "816809ce9ac2420cb5138b799e39ab06": {
          "model_module": "@jupyter-widgets/controls",
          "model_module_version": "1.5.0",
          "model_name": "HBoxModel",
          "state": {
            "_dom_classes": [],
            "_model_module": "@jupyter-widgets/controls",
            "_model_module_version": "1.5.0",
            "_model_name": "HBoxModel",
            "_view_count": null,
            "_view_module": "@jupyter-widgets/controls",
            "_view_module_version": "1.5.0",
            "_view_name": "HBoxView",
            "box_style": "",
            "children": [
              "IPY_MODEL_cab1b5529837498d8270d0056a42ccfc",
              "IPY_MODEL_82eb3b3232c342c8a1fe21e2ab0e7766",
              "IPY_MODEL_5677f703ee034c34b337bdbd2a6d91b1"
            ],
            "layout": "IPY_MODEL_fc7a9a85d2b14c8a8c9124703c3f4ea6"
          }
        },
        "82eb3b3232c342c8a1fe21e2ab0e7766": {
          "model_module": "@jupyter-widgets/controls",
          "model_module_version": "1.5.0",
          "model_name": "FloatProgressModel",
          "state": {
            "_dom_classes": [],
            "_model_module": "@jupyter-widgets/controls",
            "_model_module_version": "1.5.0",
            "_model_name": "FloatProgressModel",
            "_view_count": null,
            "_view_module": "@jupyter-widgets/controls",
            "_view_module_version": "1.5.0",
            "_view_name": "ProgressView",
            "bar_style": "success",
            "description": "",
            "description_tooltip": null,
            "layout": "IPY_MODEL_6b716ffb0bf546c092908f53e7a5fd4a",
            "max": 231508,
            "min": 0,
            "orientation": "horizontal",
            "style": "IPY_MODEL_9f18279e76624fb4b88773143ae37cb9",
            "value": 231508
          }
        },
        "848536e019a945468a76d067ab8a878a": {
          "model_module": "@jupyter-widgets/base",
          "model_module_version": "1.2.0",
          "model_name": "LayoutModel",
          "state": {
            "_model_module": "@jupyter-widgets/base",
            "_model_module_version": "1.2.0",
            "_model_name": "LayoutModel",
            "_view_count": null,
            "_view_module": "@jupyter-widgets/base",
            "_view_module_version": "1.2.0",
            "_view_name": "LayoutView",
            "align_content": null,
            "align_items": null,
            "align_self": null,
            "border": null,
            "bottom": null,
            "display": null,
            "flex": null,
            "flex_flow": null,
            "grid_area": null,
            "grid_auto_columns": null,
            "grid_auto_flow": null,
            "grid_auto_rows": null,
            "grid_column": null,
            "grid_gap": null,
            "grid_row": null,
            "grid_template_areas": null,
            "grid_template_columns": null,
            "grid_template_rows": null,
            "height": null,
            "justify_content": null,
            "justify_items": null,
            "left": null,
            "margin": null,
            "max_height": null,
            "max_width": null,
            "min_height": null,
            "min_width": null,
            "object_fit": null,
            "object_position": null,
            "order": null,
            "overflow": null,
            "overflow_x": null,
            "overflow_y": null,
            "padding": null,
            "right": null,
            "top": null,
            "visibility": null,
            "width": null
          }
        },
        "8bc96ec09a4f4512865887c479a33a42": {
          "model_module": "@jupyter-widgets/controls",
          "model_module_version": "1.5.0",
          "model_name": "ProgressStyleModel",
          "state": {
            "_model_module": "@jupyter-widgets/controls",
            "_model_module_version": "1.5.0",
            "_model_name": "ProgressStyleModel",
            "_view_count": null,
            "_view_module": "@jupyter-widgets/base",
            "_view_module_version": "1.2.0",
            "_view_name": "StyleView",
            "bar_color": null,
            "description_width": ""
          }
        },
        "91d1241a0db24c96aaa88899778fbf28": {
          "model_module": "@jupyter-widgets/controls",
          "model_module_version": "1.5.0",
          "model_name": "HTMLModel",
          "state": {
            "_dom_classes": [],
            "_model_module": "@jupyter-widgets/controls",
            "_model_module_version": "1.5.0",
            "_model_name": "HTMLModel",
            "_view_count": null,
            "_view_module": "@jupyter-widgets/controls",
            "_view_module_version": "1.5.0",
            "_view_name": "HTMLView",
            "description": "",
            "description_tooltip": null,
            "layout": "IPY_MODEL_3653e819259944cd8add43d46c1a2b24",
            "placeholder": "​",
            "style": "IPY_MODEL_dc38e76082d24b328403177bb6dff510",
            "value": " 466k/466k [00:00&lt;00:00, 735kB/s]"
          }
        },
        "996f3fe5fb5c4ece9734ac713e4ab097": {
          "model_module": "@jupyter-widgets/controls",
          "model_module_version": "1.5.0",
          "model_name": "FloatProgressModel",
          "state": {
            "_dom_classes": [],
            "_model_module": "@jupyter-widgets/controls",
            "_model_module_version": "1.5.0",
            "_model_name": "FloatProgressModel",
            "_view_count": null,
            "_view_module": "@jupyter-widgets/controls",
            "_view_module_version": "1.5.0",
            "_view_name": "ProgressView",
            "bar_style": "success",
            "description": "",
            "description_tooltip": null,
            "layout": "IPY_MODEL_730db6797ea24f03beef2dc833667c18",
            "max": 440343552,
            "min": 0,
            "orientation": "horizontal",
            "style": "IPY_MODEL_8bc96ec09a4f4512865887c479a33a42",
            "value": 440343552
          }
        },
        "9a3a26194c4a42219f382c0aa2a558c3": {
          "model_module": "@jupyter-widgets/base",
          "model_module_version": "1.2.0",
          "model_name": "LayoutModel",
          "state": {
            "_model_module": "@jupyter-widgets/base",
            "_model_module_version": "1.2.0",
            "_model_name": "LayoutModel",
            "_view_count": null,
            "_view_module": "@jupyter-widgets/base",
            "_view_module_version": "1.2.0",
            "_view_name": "LayoutView",
            "align_content": null,
            "align_items": null,
            "align_self": null,
            "border": null,
            "bottom": null,
            "display": null,
            "flex": null,
            "flex_flow": null,
            "grid_area": null,
            "grid_auto_columns": null,
            "grid_auto_flow": null,
            "grid_auto_rows": null,
            "grid_column": null,
            "grid_gap": null,
            "grid_row": null,
            "grid_template_areas": null,
            "grid_template_columns": null,
            "grid_template_rows": null,
            "height": null,
            "justify_content": null,
            "justify_items": null,
            "left": null,
            "margin": null,
            "max_height": null,
            "max_width": null,
            "min_height": null,
            "min_width": null,
            "object_fit": null,
            "object_position": null,
            "order": null,
            "overflow": null,
            "overflow_x": null,
            "overflow_y": null,
            "padding": null,
            "right": null,
            "top": null,
            "visibility": null,
            "width": null
          }
        },
        "9f18279e76624fb4b88773143ae37cb9": {
          "model_module": "@jupyter-widgets/controls",
          "model_module_version": "1.5.0",
          "model_name": "ProgressStyleModel",
          "state": {
            "_model_module": "@jupyter-widgets/controls",
            "_model_module_version": "1.5.0",
            "_model_name": "ProgressStyleModel",
            "_view_count": null,
            "_view_module": "@jupyter-widgets/base",
            "_view_module_version": "1.2.0",
            "_view_name": "StyleView",
            "bar_color": null,
            "description_width": ""
          }
        },
        "a3d0c61d89614c4e902079fb72f78e42": {
          "model_module": "@jupyter-widgets/controls",
          "model_module_version": "1.5.0",
          "model_name": "DescriptionStyleModel",
          "state": {
            "_model_module": "@jupyter-widgets/controls",
            "_model_module_version": "1.5.0",
            "_model_name": "DescriptionStyleModel",
            "_view_count": null,
            "_view_module": "@jupyter-widgets/base",
            "_view_module_version": "1.2.0",
            "_view_name": "StyleView",
            "description_width": ""
          }
        },
        "a6d097f8a15c46e0ae587bbeb5ce2ede": {
          "model_module": "@jupyter-widgets/base",
          "model_module_version": "1.2.0",
          "model_name": "LayoutModel",
          "state": {
            "_model_module": "@jupyter-widgets/base",
            "_model_module_version": "1.2.0",
            "_model_name": "LayoutModel",
            "_view_count": null,
            "_view_module": "@jupyter-widgets/base",
            "_view_module_version": "1.2.0",
            "_view_name": "LayoutView",
            "align_content": null,
            "align_items": null,
            "align_self": null,
            "border": null,
            "bottom": null,
            "display": null,
            "flex": null,
            "flex_flow": null,
            "grid_area": null,
            "grid_auto_columns": null,
            "grid_auto_flow": null,
            "grid_auto_rows": null,
            "grid_column": null,
            "grid_gap": null,
            "grid_row": null,
            "grid_template_areas": null,
            "grid_template_columns": null,
            "grid_template_rows": null,
            "height": null,
            "justify_content": null,
            "justify_items": null,
            "left": null,
            "margin": null,
            "max_height": null,
            "max_width": null,
            "min_height": null,
            "min_width": null,
            "object_fit": null,
            "object_position": null,
            "order": null,
            "overflow": null,
            "overflow_x": null,
            "overflow_y": null,
            "padding": null,
            "right": null,
            "top": null,
            "visibility": null,
            "width": null
          }
        },
        "a6fec6e30e03483e8a63c6bc3dc44ea4": {
          "model_module": "@jupyter-widgets/base",
          "model_module_version": "1.2.0",
          "model_name": "LayoutModel",
          "state": {
            "_model_module": "@jupyter-widgets/base",
            "_model_module_version": "1.2.0",
            "_model_name": "LayoutModel",
            "_view_count": null,
            "_view_module": "@jupyter-widgets/base",
            "_view_module_version": "1.2.0",
            "_view_name": "LayoutView",
            "align_content": null,
            "align_items": null,
            "align_self": null,
            "border": null,
            "bottom": null,
            "display": null,
            "flex": null,
            "flex_flow": null,
            "grid_area": null,
            "grid_auto_columns": null,
            "grid_auto_flow": null,
            "grid_auto_rows": null,
            "grid_column": null,
            "grid_gap": null,
            "grid_row": null,
            "grid_template_areas": null,
            "grid_template_columns": null,
            "grid_template_rows": null,
            "height": null,
            "justify_content": null,
            "justify_items": null,
            "left": null,
            "margin": null,
            "max_height": null,
            "max_width": null,
            "min_height": null,
            "min_width": null,
            "object_fit": null,
            "object_position": null,
            "order": null,
            "overflow": null,
            "overflow_x": null,
            "overflow_y": null,
            "padding": null,
            "right": null,
            "top": null,
            "visibility": null,
            "width": null
          }
        },
        "b0522dcc5f004418bf8c6c58923bf85a": {
          "model_module": "@jupyter-widgets/base",
          "model_module_version": "1.2.0",
          "model_name": "LayoutModel",
          "state": {
            "_model_module": "@jupyter-widgets/base",
            "_model_module_version": "1.2.0",
            "_model_name": "LayoutModel",
            "_view_count": null,
            "_view_module": "@jupyter-widgets/base",
            "_view_module_version": "1.2.0",
            "_view_name": "LayoutView",
            "align_content": null,
            "align_items": null,
            "align_self": null,
            "border": null,
            "bottom": null,
            "display": null,
            "flex": null,
            "flex_flow": null,
            "grid_area": null,
            "grid_auto_columns": null,
            "grid_auto_flow": null,
            "grid_auto_rows": null,
            "grid_column": null,
            "grid_gap": null,
            "grid_row": null,
            "grid_template_areas": null,
            "grid_template_columns": null,
            "grid_template_rows": null,
            "height": null,
            "justify_content": null,
            "justify_items": null,
            "left": null,
            "margin": null,
            "max_height": null,
            "max_width": null,
            "min_height": null,
            "min_width": null,
            "object_fit": null,
            "object_position": null,
            "order": null,
            "overflow": null,
            "overflow_x": null,
            "overflow_y": null,
            "padding": null,
            "right": null,
            "top": null,
            "visibility": null,
            "width": null
          }
        },
        "b0d5788db41c4cb99cd34786730abaac": {
          "model_module": "@jupyter-widgets/controls",
          "model_module_version": "1.5.0",
          "model_name": "HTMLModel",
          "state": {
            "_dom_classes": [],
            "_model_module": "@jupyter-widgets/controls",
            "_model_module_version": "1.5.0",
            "_model_name": "HTMLModel",
            "_view_count": null,
            "_view_module": "@jupyter-widgets/controls",
            "_view_module_version": "1.5.0",
            "_view_name": "HTMLView",
            "description": "",
            "description_tooltip": null,
            "layout": "IPY_MODEL_dd318ddd539340c1a9db635a58cdc23a",
            "placeholder": "​",
            "style": "IPY_MODEL_5b57fcc0350d420d875ae7654be5e138",
            "value": "Downloading (…)lve/main/config.json: 100%"
          }
        },
        "b3e18b69cfc34ee8b028b0fd78e43f54": {
          "model_module": "@jupyter-widgets/controls",
          "model_module_version": "1.5.0",
          "model_name": "DescriptionStyleModel",
          "state": {
            "_model_module": "@jupyter-widgets/controls",
            "_model_module_version": "1.5.0",
            "_model_name": "DescriptionStyleModel",
            "_view_count": null,
            "_view_module": "@jupyter-widgets/base",
            "_view_module_version": "1.2.0",
            "_view_name": "StyleView",
            "description_width": ""
          }
        },
        "b53cca3fa9f7443faa1e397020679756": {
          "model_module": "@jupyter-widgets/controls",
          "model_module_version": "1.5.0",
          "model_name": "FloatProgressModel",
          "state": {
            "_dom_classes": [],
            "_model_module": "@jupyter-widgets/controls",
            "_model_module_version": "1.5.0",
            "_model_name": "FloatProgressModel",
            "_view_count": null,
            "_view_module": "@jupyter-widgets/controls",
            "_view_module_version": "1.5.0",
            "_view_name": "ProgressView",
            "bar_style": "success",
            "description": "",
            "description_tooltip": null,
            "layout": "IPY_MODEL_a6fec6e30e03483e8a63c6bc3dc44ea4",
            "max": 146863759,
            "min": 0,
            "orientation": "horizontal",
            "style": "IPY_MODEL_c33a48b38e934ced94567cc5c1a31837",
            "value": 146863759
          }
        },
        "bb14005af26e4117952354406cf7e412": {
          "model_module": "@jupyter-widgets/base",
          "model_module_version": "1.2.0",
          "model_name": "LayoutModel",
          "state": {
            "_model_module": "@jupyter-widgets/base",
            "_model_module_version": "1.2.0",
            "_model_name": "LayoutModel",
            "_view_count": null,
            "_view_module": "@jupyter-widgets/base",
            "_view_module_version": "1.2.0",
            "_view_name": "LayoutView",
            "align_content": null,
            "align_items": null,
            "align_self": null,
            "border": null,
            "bottom": null,
            "display": null,
            "flex": null,
            "flex_flow": null,
            "grid_area": null,
            "grid_auto_columns": null,
            "grid_auto_flow": null,
            "grid_auto_rows": null,
            "grid_column": null,
            "grid_gap": null,
            "grid_row": null,
            "grid_template_areas": null,
            "grid_template_columns": null,
            "grid_template_rows": null,
            "height": null,
            "justify_content": null,
            "justify_items": null,
            "left": null,
            "margin": null,
            "max_height": null,
            "max_width": null,
            "min_height": null,
            "min_width": null,
            "object_fit": null,
            "object_position": null,
            "order": null,
            "overflow": null,
            "overflow_x": null,
            "overflow_y": null,
            "padding": null,
            "right": null,
            "top": null,
            "visibility": null,
            "width": null
          }
        },
        "be626ed60dbf4d3a8b5ce522b2724591": {
          "model_module": "@jupyter-widgets/controls",
          "model_module_version": "1.5.0",
          "model_name": "DescriptionStyleModel",
          "state": {
            "_model_module": "@jupyter-widgets/controls",
            "_model_module_version": "1.5.0",
            "_model_name": "DescriptionStyleModel",
            "_view_count": null,
            "_view_module": "@jupyter-widgets/base",
            "_view_module_version": "1.2.0",
            "_view_name": "StyleView",
            "description_width": ""
          }
        },
        "bec414ac3d3d41d6b3c2270ff1f2e5c0": {
          "model_module": "@jupyter-widgets/base",
          "model_module_version": "1.2.0",
          "model_name": "LayoutModel",
          "state": {
            "_model_module": "@jupyter-widgets/base",
            "_model_module_version": "1.2.0",
            "_model_name": "LayoutModel",
            "_view_count": null,
            "_view_module": "@jupyter-widgets/base",
            "_view_module_version": "1.2.0",
            "_view_name": "LayoutView",
            "align_content": null,
            "align_items": null,
            "align_self": null,
            "border": null,
            "bottom": null,
            "display": null,
            "flex": null,
            "flex_flow": null,
            "grid_area": null,
            "grid_auto_columns": null,
            "grid_auto_flow": null,
            "grid_auto_rows": null,
            "grid_column": null,
            "grid_gap": null,
            "grid_row": null,
            "grid_template_areas": null,
            "grid_template_columns": null,
            "grid_template_rows": null,
            "height": null,
            "justify_content": null,
            "justify_items": null,
            "left": null,
            "margin": null,
            "max_height": null,
            "max_width": null,
            "min_height": null,
            "min_width": null,
            "object_fit": null,
            "object_position": null,
            "order": null,
            "overflow": null,
            "overflow_x": null,
            "overflow_y": null,
            "padding": null,
            "right": null,
            "top": null,
            "visibility": null,
            "width": null
          }
        },
        "c07871c9b5084d8bbe0d3fa924463616": {
          "model_module": "@jupyter-widgets/controls",
          "model_module_version": "1.5.0",
          "model_name": "HTMLModel",
          "state": {
            "_dom_classes": [],
            "_model_module": "@jupyter-widgets/controls",
            "_model_module_version": "1.5.0",
            "_model_name": "HTMLModel",
            "_view_count": null,
            "_view_module": "@jupyter-widgets/controls",
            "_view_module_version": "1.5.0",
            "_view_name": "HTMLView",
            "description": "",
            "description_tooltip": null,
            "layout": "IPY_MODEL_bb14005af26e4117952354406cf7e412",
            "placeholder": "​",
            "style": "IPY_MODEL_6d1342cdbc824dea9a6dd78f54cac4cc",
            "value": " 847/847 [00:00&lt;00:00, 16.2kB/s]"
          }
        },
        "c33a48b38e934ced94567cc5c1a31837": {
          "model_module": "@jupyter-widgets/controls",
          "model_module_version": "1.5.0",
          "model_name": "ProgressStyleModel",
          "state": {
            "_model_module": "@jupyter-widgets/controls",
            "_model_module_version": "1.5.0",
            "_model_name": "ProgressStyleModel",
            "_view_count": null,
            "_view_module": "@jupyter-widgets/base",
            "_view_module_version": "1.2.0",
            "_view_name": "StyleView",
            "bar_color": null,
            "description_width": ""
          }
        },
        "c7d6f07216df424e93f18ff3dc441e04": {
          "model_module": "@jupyter-widgets/controls",
          "model_module_version": "1.5.0",
          "model_name": "HTMLModel",
          "state": {
            "_dom_classes": [],
            "_model_module": "@jupyter-widgets/controls",
            "_model_module_version": "1.5.0",
            "_model_name": "HTMLModel",
            "_view_count": null,
            "_view_module": "@jupyter-widgets/controls",
            "_view_module_version": "1.5.0",
            "_view_name": "HTMLView",
            "description": "",
            "description_tooltip": null,
            "layout": "IPY_MODEL_465f2e6b0a3a4bb39773a35e9fd8540f",
            "placeholder": "​",
            "style": "IPY_MODEL_b3e18b69cfc34ee8b028b0fd78e43f54",
            "value": " 440M/440M [00:01&lt;00:00, 265MB/s]"
          }
        },
        "cab1b5529837498d8270d0056a42ccfc": {
          "model_module": "@jupyter-widgets/controls",
          "model_module_version": "1.5.0",
          "model_name": "HTMLModel",
          "state": {
            "_dom_classes": [],
            "_model_module": "@jupyter-widgets/controls",
            "_model_module_version": "1.5.0",
            "_model_name": "HTMLModel",
            "_view_count": null,
            "_view_module": "@jupyter-widgets/controls",
            "_view_module_version": "1.5.0",
            "_view_name": "HTMLView",
            "description": "",
            "description_tooltip": null,
            "layout": "IPY_MODEL_9a3a26194c4a42219f382c0aa2a558c3",
            "placeholder": "​",
            "style": "IPY_MODEL_d337d59b50c740b092cfac255b31a403",
            "value": "Downloading (…)solve/main/vocab.txt: 100%"
          }
        },
        "d0677001b220490d894ffa23fb52f8be": {
          "model_module": "@jupyter-widgets/controls",
          "model_module_version": "1.5.0",
          "model_name": "FloatProgressModel",
          "state": {
            "_dom_classes": [],
            "_model_module": "@jupyter-widgets/controls",
            "_model_module_version": "1.5.0",
            "_model_name": "FloatProgressModel",
            "_view_count": null,
            "_view_module": "@jupyter-widgets/controls",
            "_view_module_version": "1.5.0",
            "_view_name": "ProgressView",
            "bar_style": "success",
            "description": "",
            "description_tooltip": null,
            "layout": "IPY_MODEL_1edf01968dd94b1093bdd3c4e2754f09",
            "max": 466062,
            "min": 0,
            "orientation": "horizontal",
            "style": "IPY_MODEL_1becba766f5d41a2a754b184d204d52f",
            "value": 466062
          }
        },
        "d312ad7cea5f4a2ab978857f46374aae": {
          "model_module": "@jupyter-widgets/controls",
          "model_module_version": "1.5.0",
          "model_name": "HTMLModel",
          "state": {
            "_dom_classes": [],
            "_model_module": "@jupyter-widgets/controls",
            "_model_module_version": "1.5.0",
            "_model_name": "HTMLModel",
            "_view_count": null,
            "_view_module": "@jupyter-widgets/controls",
            "_view_module_version": "1.5.0",
            "_view_name": "HTMLView",
            "description": "",
            "description_tooltip": null,
            "layout": "IPY_MODEL_80cf4e42a9c44ce7b8a012c83230ca27",
            "placeholder": "​",
            "style": "IPY_MODEL_ec88bd82ea9043a58b3bed0b5e6c436e",
            "value": "Downloading pytorch_model.bin: 100%"
          }
        },
        "d337d59b50c740b092cfac255b31a403": {
          "model_module": "@jupyter-widgets/controls",
          "model_module_version": "1.5.0",
          "model_name": "DescriptionStyleModel",
          "state": {
            "_model_module": "@jupyter-widgets/controls",
            "_model_module_version": "1.5.0",
            "_model_name": "DescriptionStyleModel",
            "_view_count": null,
            "_view_module": "@jupyter-widgets/base",
            "_view_module_version": "1.2.0",
            "_view_name": "StyleView",
            "description_width": ""
          }
        },
        "dc38e76082d24b328403177bb6dff510": {
          "model_module": "@jupyter-widgets/controls",
          "model_module_version": "1.5.0",
          "model_name": "DescriptionStyleModel",
          "state": {
            "_model_module": "@jupyter-widgets/controls",
            "_model_module_version": "1.5.0",
            "_model_name": "DescriptionStyleModel",
            "_view_count": null,
            "_view_module": "@jupyter-widgets/base",
            "_view_module_version": "1.2.0",
            "_view_name": "StyleView",
            "description_width": ""
          }
        },
        "dd318ddd539340c1a9db635a58cdc23a": {
          "model_module": "@jupyter-widgets/base",
          "model_module_version": "1.2.0",
          "model_name": "LayoutModel",
          "state": {
            "_model_module": "@jupyter-widgets/base",
            "_model_module_version": "1.2.0",
            "_model_name": "LayoutModel",
            "_view_count": null,
            "_view_module": "@jupyter-widgets/base",
            "_view_module_version": "1.2.0",
            "_view_name": "LayoutView",
            "align_content": null,
            "align_items": null,
            "align_self": null,
            "border": null,
            "bottom": null,
            "display": null,
            "flex": null,
            "flex_flow": null,
            "grid_area": null,
            "grid_auto_columns": null,
            "grid_auto_flow": null,
            "grid_auto_rows": null,
            "grid_column": null,
            "grid_gap": null,
            "grid_row": null,
            "grid_template_areas": null,
            "grid_template_columns": null,
            "grid_template_rows": null,
            "height": null,
            "justify_content": null,
            "justify_items": null,
            "left": null,
            "margin": null,
            "max_height": null,
            "max_width": null,
            "min_height": null,
            "min_width": null,
            "object_fit": null,
            "object_position": null,
            "order": null,
            "overflow": null,
            "overflow_x": null,
            "overflow_y": null,
            "padding": null,
            "right": null,
            "top": null,
            "visibility": null,
            "width": null
          }
        },
        "e456a9de2a6c4a4290be9eae34cc2997": {
          "model_module": "@jupyter-widgets/base",
          "model_module_version": "1.2.0",
          "model_name": "LayoutModel",
          "state": {
            "_model_module": "@jupyter-widgets/base",
            "_model_module_version": "1.2.0",
            "_model_name": "LayoutModel",
            "_view_count": null,
            "_view_module": "@jupyter-widgets/base",
            "_view_module_version": "1.2.0",
            "_view_name": "LayoutView",
            "align_content": null,
            "align_items": null,
            "align_self": null,
            "border": null,
            "bottom": null,
            "display": null,
            "flex": null,
            "flex_flow": null,
            "grid_area": null,
            "grid_auto_columns": null,
            "grid_auto_flow": null,
            "grid_auto_rows": null,
            "grid_column": null,
            "grid_gap": null,
            "grid_row": null,
            "grid_template_areas": null,
            "grid_template_columns": null,
            "grid_template_rows": null,
            "height": null,
            "justify_content": null,
            "justify_items": null,
            "left": null,
            "margin": null,
            "max_height": null,
            "max_width": null,
            "min_height": null,
            "min_width": null,
            "object_fit": null,
            "object_position": null,
            "order": null,
            "overflow": null,
            "overflow_x": null,
            "overflow_y": null,
            "padding": null,
            "right": null,
            "top": null,
            "visibility": null,
            "width": null
          }
        },
        "e4e98e95dd3547e2b44dfd74beb77307": {
          "model_module": "@jupyter-widgets/controls",
          "model_module_version": "1.5.0",
          "model_name": "HBoxModel",
          "state": {
            "_dom_classes": [],
            "_model_module": "@jupyter-widgets/controls",
            "_model_module_version": "1.5.0",
            "_model_name": "HBoxModel",
            "_view_count": null,
            "_view_module": "@jupyter-widgets/controls",
            "_view_module_version": "1.5.0",
            "_view_name": "HBoxView",
            "box_style": "",
            "children": [
              "IPY_MODEL_f4a5cd4206fa436f86485ae1d8d4dfbd",
              "IPY_MODEL_d0677001b220490d894ffa23fb52f8be",
              "IPY_MODEL_91d1241a0db24c96aaa88899778fbf28"
            ],
            "layout": "IPY_MODEL_848536e019a945468a76d067ab8a878a"
          }
        },
        "ec2c8643e8ff4b54bbcc4a524525a0d0": {
          "model_module": "@jupyter-widgets/controls",
          "model_module_version": "1.5.0",
          "model_name": "FloatProgressModel",
          "state": {
            "_dom_classes": [],
            "_model_module": "@jupyter-widgets/controls",
            "_model_module_version": "1.5.0",
            "_model_name": "FloatProgressModel",
            "_view_count": null,
            "_view_module": "@jupyter-widgets/controls",
            "_view_module_version": "1.5.0",
            "_view_name": "ProgressView",
            "bar_style": "success",
            "description": "",
            "description_tooltip": null,
            "layout": "IPY_MODEL_12d9744571aa439abc5f7d9f2fee8162",
            "max": 847,
            "min": 0,
            "orientation": "horizontal",
            "style": "IPY_MODEL_1a1e2a342236460eb993937ffbb96ad9",
            "value": 847
          }
        },
        "ec88bd82ea9043a58b3bed0b5e6c436e": {
          "model_module": "@jupyter-widgets/controls",
          "model_module_version": "1.5.0",
          "model_name": "DescriptionStyleModel",
          "state": {
            "_model_module": "@jupyter-widgets/controls",
            "_model_module_version": "1.5.0",
            "_model_name": "DescriptionStyleModel",
            "_view_count": null,
            "_view_module": "@jupyter-widgets/base",
            "_view_module_version": "1.2.0",
            "_view_name": "StyleView",
            "description_width": ""
          }
        },
        "f0a282183fb74f89b99d9a4278f238be": {
          "model_module": "@jupyter-widgets/controls",
          "model_module_version": "1.5.0",
          "model_name": "DescriptionStyleModel",
          "state": {
            "_model_module": "@jupyter-widgets/controls",
            "_model_module_version": "1.5.0",
            "_model_name": "DescriptionStyleModel",
            "_view_count": null,
            "_view_module": "@jupyter-widgets/base",
            "_view_module_version": "1.2.0",
            "_view_name": "StyleView",
            "description_width": ""
          }
        },
        "f4a5cd4206fa436f86485ae1d8d4dfbd": {
          "model_module": "@jupyter-widgets/controls",
          "model_module_version": "1.5.0",
          "model_name": "HTMLModel",
          "state": {
            "_dom_classes": [],
            "_model_module": "@jupyter-widgets/controls",
            "_model_module_version": "1.5.0",
            "_model_name": "HTMLModel",
            "_view_count": null,
            "_view_module": "@jupyter-widgets/controls",
            "_view_module_version": "1.5.0",
            "_view_name": "HTMLView",
            "description": "",
            "description_tooltip": null,
            "layout": "IPY_MODEL_577ca42d0a1349f98bd7d27278307483",
            "placeholder": "​",
            "style": "IPY_MODEL_be626ed60dbf4d3a8b5ce522b2724591",
            "value": "Downloading (…)/main/tokenizer.json: 100%"
          }
        },
        "f6f857f4f8d7471f8745ff0d45e5d43d": {
          "model_module": "@jupyter-widgets/controls",
          "model_module_version": "1.5.0",
          "model_name": "HBoxModel",
          "state": {
            "_dom_classes": [],
            "_model_module": "@jupyter-widgets/controls",
            "_model_module_version": "1.5.0",
            "_model_name": "HBoxModel",
            "_view_count": null,
            "_view_module": "@jupyter-widgets/controls",
            "_view_module_version": "1.5.0",
            "_view_name": "HBoxView",
            "box_style": "",
            "children": [
              "IPY_MODEL_d312ad7cea5f4a2ab978857f46374aae",
              "IPY_MODEL_996f3fe5fb5c4ece9734ac713e4ab097",
              "IPY_MODEL_c7d6f07216df424e93f18ff3dc441e04"
            ],
            "layout": "IPY_MODEL_e456a9de2a6c4a4290be9eae34cc2997"
          }
        },
        "fc7a9a85d2b14c8a8c9124703c3f4ea6": {
          "model_module": "@jupyter-widgets/base",
          "model_module_version": "1.2.0",
          "model_name": "LayoutModel",
          "state": {
            "_model_module": "@jupyter-widgets/base",
            "_model_module_version": "1.2.0",
            "_model_name": "LayoutModel",
            "_view_count": null,
            "_view_module": "@jupyter-widgets/base",
            "_view_module_version": "1.2.0",
            "_view_name": "LayoutView",
            "align_content": null,
            "align_items": null,
            "align_self": null,
            "border": null,
            "bottom": null,
            "display": null,
            "flex": null,
            "flex_flow": null,
            "grid_area": null,
            "grid_auto_columns": null,
            "grid_auto_flow": null,
            "grid_auto_rows": null,
            "grid_column": null,
            "grid_gap": null,
            "grid_row": null,
            "grid_template_areas": null,
            "grid_template_columns": null,
            "grid_template_rows": null,
            "height": null,
            "justify_content": null,
            "justify_items": null,
            "left": null,
            "margin": null,
            "max_height": null,
            "max_width": null,
            "min_height": null,
            "min_width": null,
            "object_fit": null,
            "object_position": null,
            "order": null,
            "overflow": null,
            "overflow_x": null,
            "overflow_y": null,
            "padding": null,
            "right": null,
            "top": null,
            "visibility": null,
            "width": null
          }
        },
        "ffbf83ebde1b43e99045ae8b778fb9f1": {
          "model_module": "@jupyter-widgets/controls",
          "model_module_version": "1.5.0",
          "model_name": "DescriptionStyleModel",
          "state": {
            "_model_module": "@jupyter-widgets/controls",
            "_model_module_version": "1.5.0",
            "_model_name": "DescriptionStyleModel",
            "_view_count": null,
            "_view_module": "@jupyter-widgets/base",
            "_view_module_version": "1.2.0",
            "_view_name": "StyleView",
            "description_width": ""
          }
        }
      }
    }
  },
  "nbformat": 4,
  "nbformat_minor": 5
}
